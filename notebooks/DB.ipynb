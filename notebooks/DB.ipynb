{
 "cells": [
  {
   "cell_type": "code",
   "execution_count": 2,
   "metadata": {},
   "outputs": [],
   "source": []
  },
  {
   "cell_type": "code",
   "execution_count": null,
   "metadata": {},
   "outputs": [],
   "source": [
    "engine = create_engine('sqlite:////home/david/Documents/learning_repositories/ih_datamadpt_project_final/lol.db', echo=False)\n",
    "#conn = engine.connect()"
   ]
  },
  {
   "cell_type": "code",
   "execution_count": 6,
   "metadata": {},
   "outputs": [],
   "source": [
    "metadata = MetaData()\n",
    "\n",
    "userinfo_table = Table('user_info', metadata,\n",
    "                       Column('id', String, primary_key=True),\n",
    "                       Column('summoner_name', String),\n",
    "                       Column('accountid', String)\n",
    "                      \n",
    "                      )\n",
    "matchlist_table = Table('match_list', metadata,\n",
    "                       Column()\n",
    "                      \n",
    "                      )\n",
    "\n",
    "playerinfo_table = Table('player_info', metadata,\n",
    "                       Column('id', String),\n",
    "                       Column('user_id', String, ForeignKey('user_info.id')),\n",
    "                       Column('summoner_name', String)\n",
    "                       Column('accountid', String)\n",
    "                      \n",
    "                      )\n",
    "\n",
    "frames_table = Table('frames', metadata,\n",
    "                       Column()\n",
    "                      \n",
    "                      )\n",
    "\n",
    "\n",
    "events_table = Table('events', metadata,\n",
    "              Column('id', String, primary_key=True),\n",
    "              Column('type', String),\n",
    "              Column('wardType', String),\n",
    "              Column('assistingParticipantIds', String),\n",
    "                     )"
   ]
  },
  {
   "cell_type": "code",
   "execution_count": 7,
   "metadata": {},
   "outputs": [],
   "source": [
    "metadata.create_all(engine)"
   ]
  },
  {
   "cell_type": "code",
   "execution_count": 8,
   "metadata": {},
   "outputs": [
    {
     "data": {
      "text/plain": [
       "['events']"
      ]
     },
     "execution_count": 8,
     "metadata": {},
     "output_type": "execute_result"
    }
   ],
   "source": [
    "engine.table_names()"
   ]
  },
  {
   "cell_type": "code",
   "execution_count": null,
   "metadata": {},
   "outputs": [],
   "source": [
    "pd.read_sql_query(f'SELECT * FROM events', engine)"
   ]
  }
 ],
 "metadata": {
  "kernelspec": {
   "display_name": "Python [conda env:ironhack]",
   "language": "python",
   "name": "conda-env-ironhack-py"
  },
  "language_info": {
   "codemirror_mode": {
    "name": "ipython",
    "version": 3
   },
   "file_extension": ".py",
   "mimetype": "text/x-python",
   "name": "python",
   "nbconvert_exporter": "python",
   "pygments_lexer": "ipython3",
   "version": "3.7.9"
  }
 },
 "nbformat": 4,
 "nbformat_minor": 4
}
