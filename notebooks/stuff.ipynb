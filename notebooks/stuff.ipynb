{
 "cells": [
  {
   "cell_type": "code",
   "execution_count": null,
   "metadata": {},
   "outputs": [],
   "source": [
    "import requests\n",
    "from bs4 import BeautifulSoup\n",
    "import pandas as pd\n",
    "import numpy as np\n",
    "\n",
    "import matplotlib.pyplot as plt\n",
    "import seaborn as sns\n",
    "%matplotlib inline"
   ]
  },
  {
   "cell_type": "markdown",
   "metadata": {},
   "source": [
    "## Index"
   ]
  },
  {
   "cell_type": "markdown",
   "metadata": {},
   "source": [
    "1 - API data\\\n",
    "2 - Data preprocessing\\\n",
    "3 - "
   ]
  },
  {
   "cell_type": "code",
   "execution_count": null,
   "metadata": {},
   "outputs": [],
   "source": []
  },
  {
   "cell_type": "code",
   "execution_count": null,
   "metadata": {},
   "outputs": [],
   "source": []
  },
  {
   "cell_type": "code",
   "execution_count": null,
   "metadata": {},
   "outputs": [],
   "source": [
    "## APi Key to arg parse"
   ]
  },
  {
   "cell_type": "code",
   "execution_count": null,
   "metadata": {},
   "outputs": [],
   "source": [
    "summoner = 'Saikki kusuo'\n",
    "key = None"
   ]
  },
  {
   "cell_type": "markdown",
   "metadata": {},
   "source": [
    "Summoner v4, /lol/summoner/v4/summoners/by-name/{summonerName}\\\n",
    "Get summoner info by name using API key and summoner name"
   ]
  },
  {
   "cell_type": "code",
   "execution_count": null,
   "metadata": {},
   "outputs": [],
   "source": [
    "# Summoner v4, /lol/summoner/v4/summoners/by-name/{summonerName}\n",
    "# Get summoner info by name using API key and summoner name\n",
    "\n",
    "def get_accountid(summoner_name, apikey):\n",
    "    # This function takes the summoner name and the API Key\n",
    "    # and retrieves its account id\n",
    "    url = f'https://euw1.api.riotgames.com/lol/summoner/v4/summoners/by-name/{summoner_name}'\n",
    "    html = requests.get(url,\n",
    "                       params={'api_key': key})\n",
    "    json = html.json()\n",
    "    accid = json['accountId']\n",
    "    \n",
    "    return accid"
   ]
  },
  {
   "cell_type": "code",
   "execution_count": null,
   "metadata": {},
   "outputs": [],
   "source": [
    "accountId = get_accountid(summoner, key)\n",
    "accountId"
   ]
  },
  {
   "cell_type": "code",
   "execution_count": null,
   "metadata": {},
   "outputs": [],
   "source": [
    "def get_matchlist(accountid, api):\n",
    "    \n",
    "    url = f'https://euw1.api.riotgames.com/lol/match/v4/matchlists/by-account/{accountId}'\n",
    "    html = requests.get(url,\n",
    "                       params={'api_key': key})\n",
    "    json = html.json()\n",
    "    \n",
    "    return json"
   ]
  },
  {
   "cell_type": "code",
   "execution_count": null,
   "metadata": {},
   "outputs": [],
   "source": [
    "mygames = get_matchlist(accountId, key)"
   ]
  },
  {
   "cell_type": "code",
   "execution_count": null,
   "metadata": {},
   "outputs": [],
   "source": [
    "mygames.keys()"
   ]
  },
  {
   "cell_type": "code",
   "execution_count": null,
   "metadata": {},
   "outputs": [],
   "source": [
    "mygames = pd.DataFrame(mygames['matches'])\n",
    "mygames.head()"
   ]
  },
  {
   "cell_type": "code",
   "execution_count": null,
   "metadata": {},
   "outputs": [],
   "source": [
    "# Match v4, /lol/match/v4/matches/{matchId}\n",
    "# Get match info using gameid\n",
    "def get_match_info(matchid):\n",
    "    \n",
    "    url = f'https://euw1.api.riotgames.com/lol/match/v4/matches/{matchid}'\n",
    "    html = requests.get(url,\n",
    "                    params={'api_key': key})\n",
    "    json = html.json()\n",
    "    \n",
    "    return json"
   ]
  },
  {
   "cell_type": "code",
   "execution_count": null,
   "metadata": {},
   "outputs": [],
   "source": [
    "match = get_match_info(4834424471)"
   ]
  },
  {
   "cell_type": "code",
   "execution_count": null,
   "metadata": {},
   "outputs": [],
   "source": [
    "match.keys()"
   ]
  },
  {
   "cell_type": "code",
   "execution_count": null,
   "metadata": {},
   "outputs": [],
   "source": [
    "match['participants']"
   ]
  },
  {
   "cell_type": "code",
   "execution_count": null,
   "metadata": {},
   "outputs": [],
   "source": [
    "match['participantIdentities'][0]"
   ]
  },
  {
   "cell_type": "code",
   "execution_count": null,
   "metadata": {},
   "outputs": [],
   "source": [
    "players = pd.DataFrame()\n",
    "\n",
    "for participant in range(10):\n",
    "    df = pd.DataFrame.from_dict(match['participants'][participant]['stats'], orient='index').T\n",
    "    df.insert(loc=0, column='championId', value= match['participants'][participant]['championId'])\n",
    "    df.insert(loc=1, column='teamId', value=match['participants'][participant]['teamId'])\n",
    "    players = players.append(df)\n",
    "    \n",
    "players.insert(loc=0, column='gameid', value=[match['gameId'] for value in range(len(players))])"
   ]
  },
  {
   "cell_type": "code",
   "execution_count": null,
   "metadata": {},
   "outputs": [],
   "source": [
    "players"
   ]
  },
  {
   "cell_type": "code",
   "execution_count": null,
   "metadata": {},
   "outputs": [],
   "source": [
    "players.columns.to_list()"
   ]
  },
  {
   "cell_type": "code",
   "execution_count": null,
   "metadata": {},
   "outputs": [],
   "source": [
    "player_info = pd.DataFrame()\n",
    "\n",
    "for elem in range(len(match['participantIdentities'])):\n",
    "    df = pd.DataFrame.from_dict(match['participantIdentities'][elem]['player'], orient='index').T\n",
    "    df.insert(loc=0, column='participantId', value= match['participantIdentities'][elem]['participantId'])\n",
    "    player_info = player_info.append(df)"
   ]
  },
  {
   "cell_type": "code",
   "execution_count": null,
   "metadata": {},
   "outputs": [],
   "source": [
    "player_info"
   ]
  },
  {
   "cell_type": "code",
   "execution_count": null,
   "metadata": {},
   "outputs": [],
   "source": [
    "merge = pd.merge(players, player_info, on='participantId')"
   ]
  },
  {
   "cell_type": "code",
   "execution_count": null,
   "metadata": {},
   "outputs": [],
   "source": [
    "merge"
   ]
  },
  {
   "cell_type": "code",
   "execution_count": null,
   "metadata": {},
   "outputs": [],
   "source": [
    "merge.columns.to_list()"
   ]
  },
  {
   "cell_type": "markdown",
   "metadata": {},
   "source": [
    "## Game timeline"
   ]
  },
  {
   "cell_type": "code",
   "execution_count": null,
   "metadata": {},
   "outputs": [],
   "source": [
    "def get_match_timeline(matchid):\n",
    "\n",
    "    url= f'https://euw1.api.riotgames.com/lol/match/v4/timelines/by-match/{matchid}'\n",
    "    html = requests.get(url,\n",
    "                       params={'api_key': key})\n",
    "    json = html.json()\n",
    "    \n",
    "    return json"
   ]
  },
  {
   "cell_type": "code",
   "execution_count": null,
   "metadata": {},
   "outputs": [],
   "source": [
    "tl = get_match_timeline(4834424471)\n",
    "\n",
    "tl.keys()"
   ]
  },
  {
   "cell_type": "code",
   "execution_count": null,
   "metadata": {},
   "outputs": [],
   "source": [
    "tl['frames'][0].keys()"
   ]
  },
  {
   "cell_type": "code",
   "execution_count": null,
   "metadata": {},
   "outputs": [],
   "source": [
    "len(tl)"
   ]
  },
  {
   "cell_type": "code",
   "execution_count": null,
   "metadata": {},
   "outputs": [],
   "source": [
    "tl['frames'][35]['timestamp']"
   ]
  },
  {
   "cell_type": "code",
   "execution_count": null,
   "metadata": {},
   "outputs": [],
   "source": [
    "it = tl['frames'][16]['participantFrames']\n",
    "\n",
    "a = pd.DataFrame(columns=['participantId', 'x', 'y' 'currentGold', 'totalGold', 'level', 'xp',\n",
    "                          'minionsKilled', 'jungleMinionsKilled', 'dominionScore', 'teamScore'])\n",
    "it"
   ]
  },
  {
   "cell_type": "code",
   "execution_count": null,
   "metadata": {},
   "outputs": [],
   "source": [
    "\n",
    "for elem in it:\n",
    "    dic = {}\n",
    "    for sub_elem in it[elem]:         \n",
    "        if type(it[elem][sub_elem]) == dict:\n",
    "            dic.update(it[elem][sub_elem])\n",
    "        else:\n",
    "            dic[sub_elem] = it[elem][sub_elem]\n",
    "    a = a.append(pd.DataFrame(dic, index=[0]))\n"
   ]
  },
  {
   "cell_type": "code",
   "execution_count": null,
   "metadata": {},
   "outputs": [],
   "source": [
    "a"
   ]
  },
  {
   "cell_type": "code",
   "execution_count": null,
   "metadata": {},
   "outputs": [],
   "source": [
    "def participant_frames(json):\n",
    "    participant_frames = pd.DataFrame(columns=['participantId', 'x', 'y' 'currentGold', 'totalGold', 'level', 'xp',\n",
    "                          'minionsKilled', 'jungleMinionsKilled', 'dominionScore', 'teamScore', 'timestamp'])\n",
    "    \n",
    "    lenght = list(range(len(json['frames'])))\n",
    "    for frame in lenght:\n",
    "        iterable = json['frames'][frame]['participantFrames']\n",
    "        for elem in iterable:\n",
    "            dic = {}\n",
    "            for sub_elem in iterable[elem]:         \n",
    "                if type(iterable[elem][sub_elem]) == dict:\n",
    "                    dic.update(iterable[elem][sub_elem])\n",
    "                else:\n",
    "                    dic[sub_elem] = iterable[elem][sub_elem]\n",
    "            df = pd.DataFrame(dic, index=[0])\n",
    "            df.insert(loc=0, column='timestamp', value=json['frames'][frame]['timestamp'])\n",
    "            participant_frames = participant_frames.append(df, ignore_index=True)\n",
    "    return participant_frames"
   ]
  },
  {
   "cell_type": "code",
   "execution_count": null,
   "metadata": {},
   "outputs": [],
   "source": [
    "a = participant_frames(tl)\n",
    "\n",
    "a['dominionScore'].unique()"
   ]
  },
  {
   "cell_type": "code",
   "execution_count": null,
   "metadata": {},
   "outputs": [],
   "source": [
    "tl['frames'][35]"
   ]
  },
  {
   "cell_type": "code",
   "execution_count": null,
   "metadata": {},
   "outputs": [],
   "source": [
    "tl['frames'][1]['timestamp']"
   ]
  },
  {
   "cell_type": "code",
   "execution_count": null,
   "metadata": {},
   "outputs": [],
   "source": [
    "tl['frames'][1]['events']"
   ]
  },
  {
   "cell_type": "code",
   "execution_count": null,
   "metadata": {},
   "outputs": [],
   "source": [
    "tl"
   ]
  },
  {
   "cell_type": "code",
   "execution_count": null,
   "metadata": {},
   "outputs": [],
   "source": [
    "events = pd.DataFrame(tl['frames'][4]['events'])"
   ]
  },
  {
   "cell_type": "code",
   "execution_count": null,
   "metadata": {},
   "outputs": [],
   "source": [
    "events = pd.DataFrame()\n",
    "frames = tl['frames']\n",
    "for elem in range(len(frames)):\n",
    "    events = events.append(pd.DataFrame(frames[elem]['events']))\n",
    "                           \n",
    "events "
   ]
  },
  {
   "cell_type": "code",
   "execution_count": null,
   "metadata": {},
   "outputs": [],
   "source": [
    "events['type'].unique()"
   ]
  },
  {
   "cell_type": "markdown",
   "metadata": {},
   "source": [
    "## OOP version"
   ]
  },
  {
   "cell_type": "code",
   "execution_count": null,
   "metadata": {},
   "outputs": [],
   "source": [
    "class User(object):  \n",
    "        \n",
    "    \n",
    "    def __init__(self, # self makes reference to the instance\n",
    "                 name, \n",
    "                 api_key, \n",
    "                 summoner_name,    \n",
    "                 ):\n",
    "        \n",
    "        self.name = name\n",
    "        self.api_key = api_key\n",
    "        self.summoner_name = summoner_name\n",
    "        self.accountid = get_accountid(summoner, key)\n",
    "     \n",
    "    \n",
    "    def new_apikey(self, key):\n",
    "        self.api_key = key\n",
    "        "
   ]
  },
  {
   "cell_type": "code",
   "execution_count": null,
   "metadata": {},
   "outputs": [],
   "source": []
  },
  {
   "cell_type": "code",
   "execution_count": null,
   "metadata": {},
   "outputs": [],
   "source": [
    "events['position_x'] = [elem.get('x') if type(elem) == dict else 'none' for elem in events['position']]\n",
    "events['position_y'] = [elem.get('y') if type(elem) == dict else 'none' for elem in events['position']]\n",
    "events.drop(columns='position', inplace=True)"
   ]
  },
  {
   "cell_type": "code",
   "execution_count": null,
   "metadata": {},
   "outputs": [],
   "source": [
    "events.head()"
   ]
  },
  {
   "cell_type": "code",
   "execution_count": null,
   "metadata": {},
   "outputs": [],
   "source": [
    "events['assistingParticipantIds'][2]"
   ]
  },
  {
   "cell_type": "code",
   "execution_count": null,
   "metadata": {},
   "outputs": [],
   "source": [
    "events['assistingParticipantIds'] = [elem[0] if type(elem) == list else 'none' for elem in events['assistingParticipantIds']]"
   ]
  },
  {
   "cell_type": "code",
   "execution_count": null,
   "metadata": {},
   "outputs": [],
   "source": [
    "events"
   ]
  },
  {
   "cell_type": "code",
   "execution_count": null,
   "metadata": {},
   "outputs": [],
   "source": [
    "events.dtypes"
   ]
  },
  {
   "cell_type": "code",
   "execution_count": null,
   "metadata": {},
   "outputs": [],
   "source": [
    "num_feat = events.select_dtypes(include=np.number).columns.to_list()\n",
    "cat_feat = events.select_dtypes(include='object').columns.to_list()\n",
    "num_df = events[num_feat]\n",
    "cat_df = events[cat_feat].astype('category')"
   ]
  },
  {
   "cell_type": "code",
   "execution_count": null,
   "metadata": {},
   "outputs": [],
   "source": [
    "events = pd.concat([cat_df, num_df], axis=1)\n",
    "events.dtypes"
   ]
  },
  {
   "cell_type": "code",
   "execution_count": null,
   "metadata": {},
   "outputs": [],
   "source": [
    "event = events[['type', 'wardType','assistingParticipantIds']]\n",
    "event"
   ]
  },
  {
   "cell_type": "code",
   "execution_count": null,
   "metadata": {},
   "outputs": [],
   "source": [
    "event.to_sql('events', con=engine, if_exists='append', index_label='id')"
   ]
  },
  {
   "cell_type": "code",
   "execution_count": null,
   "metadata": {},
   "outputs": [],
   "source": [
    "from DB import engine"
   ]
  },
  {
   "cell_type": "code",
   "execution_count": null,
   "metadata": {},
   "outputs": [],
   "source": []
  }
 ],
 "metadata": {
  "kernelspec": {
   "display_name": "Python [conda env:ironhack]",
   "language": "python",
   "name": "conda-env-ironhack-py"
  },
  "language_info": {
   "codemirror_mode": {
    "name": "ipython",
    "version": 3
   },
   "file_extension": ".py",
   "mimetype": "text/x-python",
   "name": "python",
   "nbconvert_exporter": "python",
   "pygments_lexer": "ipython3",
   "version": "3.7.9"
  }
 },
 "nbformat": 4,
 "nbformat_minor": 4
}
