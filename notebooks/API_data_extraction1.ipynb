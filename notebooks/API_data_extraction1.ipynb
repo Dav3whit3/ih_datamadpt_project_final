{
 "cells": [
  {
   "cell_type": "code",
   "execution_count": null,
   "metadata": {},
   "outputs": [],
   "source": [
    "import requests\n",
    "from bs4 import BeautifulSoup\n",
    "import pandas as pd\n",
    "import numpy as np\n",
    "\n",
    "#import matplotlib.pyplot as plt\n",
    "#import seaborn as sns\n",
    "#%matplotlib inline"
   ]
  },
  {
   "cell_type": "code",
   "execution_count": null,
   "metadata": {},
   "outputs": [],
   "source": [
    "summoner = 'Saikki kusuo'\n"
   ]
  },
  {
   "cell_type": "markdown",
   "metadata": {},
   "source": [
    "## Extracting Functions"
   ]
  },
  {
   "cell_type": "code",
   "execution_count": null,
   "metadata": {},
   "outputs": [],
   "source": [
    "# Summoner v4, /lol/summoner/v4/summoners/by-name/{summonerName}\n",
    "# Get summoner info by name using API key and summoner name\n",
    "\n",
    "def get_summoner_info(summoner_name, apikey):\n",
    "    # This function takes the summoner name and the API Key\n",
    "    # and retrieves its account id\n",
    "    url = f'https://euw1.api.riotgames.com/lol/summoner/v4/summoners/by-name/{summoner_name}'\n",
    "    html = requests.get(url,\n",
    "                       params={'api_key': key})\n",
    "    json = html.json()\n",
    "    df = pd.DataFrame(json, index=[0])\n",
    "    \n",
    "    return df\n",
    "\n",
    "summoner_info = get_summoner_info(summoner, key)\n",
    "accountid = summoner_info['accountId'][0]\n",
    "accountid"
   ]
  },
  {
   "cell_type": "code",
   "execution_count": null,
   "metadata": {},
   "outputs": [],
   "source": [
    "def get_matchlist(accountid, api):\n",
    "    \n",
    "    url = f'https://euw1.api.riotgames.com/lol/match/v4/matchlists/by-account/{accountid}'\n",
    "    html = requests.get(url,\n",
    "                       params={'api_key': key})\n",
    "    json = html.json()\n",
    "    df = pd.DataFrame(json['matches'])\n",
    "    \n",
    "    return df\n",
    "\n",
    "match_list = get_matchlist(accountid, key)\n",
    "match_list"
   ]
  },
  {
   "cell_type": "code",
   "execution_count": null,
   "metadata": {},
   "outputs": [],
   "source": [
    "def get_match_info(matchid):\n",
    "    \n",
    "    url = f'https://euw1.api.riotgames.com/lol/match/v4/matches/{matchid}'\n",
    "    html = requests.get(url,\n",
    "                    params={'api_key': key})\n",
    "    json = html.json()\n",
    "    \n",
    "    return json\n",
    "\n",
    "match_info = get_match_info(4834424471)\n",
    "match_info.keys()"
   ]
  },
  {
   "cell_type": "code",
   "execution_count": null,
   "metadata": {},
   "outputs": [],
   "source": [
    "def get_players_info(json):\n",
    "        \n",
    "    players = pd.DataFrame()\n",
    "    \n",
    "    for participant in range(10):\n",
    "        df = pd.DataFrame.from_dict(json['participants'][participant]['stats'], orient='index').T\n",
    "        df.insert(loc=0, column='championId', value= json['participants'][participant]['championId'])\n",
    "        df.insert(loc=1, column='teamId', value=json['participants'][participant]['teamId'])\n",
    "        \n",
    "        dff = pd.DataFrame.from_dict(json['participantIdentities'][participant]['player'], orient='index').T\n",
    "        dff.insert(loc=0, column='participantId', value= json['participantIdentities'][participant]['participantId'])\n",
    "        df_final = pd.merge(df, dff, on='participantId')\n",
    "        \n",
    "        players = players.append(df_final)\n",
    "    \n",
    "    players.insert(loc=0, column='gameid', value=[json['gameId'] for value in range(len(players))])\n",
    "        \n",
    "        \n",
    "        \n",
    "    return players\n",
    "\n",
    "players_info = get_players_info(match_info)\n",
    "players_info"
   ]
  },
  {
   "cell_type": "code",
   "execution_count": null,
   "metadata": {},
   "outputs": [],
   "source": [
    "match_cols = list(match)\n",
    "match_cols"
   ]
  },
  {
   "cell_type": "code",
   "execution_count": null,
   "metadata": {},
   "outputs": [],
   "source": [
    "def get_match_timeline(matchid):\n",
    "\n",
    "    url= f'https://euw1.api.riotgames.com/lol/match/v4/timelines/by-match/{matchid}'\n",
    "    html = requests.get(url,\n",
    "                       params={'api_key': key})\n",
    "    json = html.json()\n",
    "    \n",
    "    return json\n",
    "\n",
    "timeline = get_match_timeline(4834424471)"
   ]
  },
  {
   "cell_type": "code",
   "execution_count": null,
   "metadata": {},
   "outputs": [],
   "source": [
    "def participant_frames(json):\n",
    "    ## Extracting frames from json\n",
    "\n",
    "    all_frames = pd.DataFrame()\n",
    "\n",
    "    for frame in list(range(len(json['frames']))):\n",
    "        iterable = json['frames'][frame]['participantFrames']\n",
    "        for elem in iterable:\n",
    "            dic = {}\n",
    "            for sub_elem in iterable[elem]:\n",
    "                if type(iterable[elem][sub_elem]) == dict:\n",
    "                    dic.update(iterable[elem][sub_elem])\n",
    "                else:\n",
    "                    dic[sub_elem] = iterable[elem][sub_elem]\n",
    "            df = pd.DataFrame(dic, index=[0])\n",
    "            df.insert(loc=0, column='timestamp', value=json['frames'][frame]['timestamp'])\n",
    "            all_frames = all_frames.append(df, ignore_index=True)\n",
    "\n",
    "    cols = ['timestamp', 'participantId', 'x', 'y', 'currentGold', 'totalGold', 'level',\n",
    "            'xp', 'minionsKilled', 'jungleMinionsKilled',\n",
    "            # 'dominionScore','teamScore',\n",
    "            ]\n",
    "    all_frames = all_frames[cols]\n",
    "\n",
    "    return all_frames\n",
    "\n",
    "frames = participant_frames(timeline)\n",
    "frames"
   ]
  },
  {
   "cell_type": "code",
   "execution_count": null,
   "metadata": {},
   "outputs": [],
   "source": [
    "def get_events(json):\n",
    "    \n",
    "    events = pd.DataFrame()\n",
    "    \n",
    "    frames = json['frames']\n",
    "    for elem in range(len(frames)):\n",
    "        events = events.append(pd.DataFrame(frames[elem]['events']))\n",
    "    \n",
    "    \n",
    "    events['position_x'] = [elem.get('x') if type(elem) == dict else 'none' for elem in events['position']]\n",
    "    events['position_y'] = [elem.get('y') if type(elem) == dict else 'none' for elem in events['position']]\n",
    "    events.drop(columns='position', inplace=True)\n",
    "    \n",
    "    return events\n",
    "    \n",
    "events = get_events(timeline)\n",
    "display(list(events))\n",
    "display(events)"
   ]
  },
  {
   "cell_type": "code",
   "execution_count": null,
   "metadata": {},
   "outputs": [],
   "source": []
  }
 ],
 "metadata": {
  "kernelspec": {
   "display_name": "Python [conda env:ironhack]",
   "language": "python",
   "name": "conda-env-ironhack-py"
  },
  "language_info": {
   "codemirror_mode": {
    "name": "ipython",
    "version": 3
   },
   "file_extension": ".py",
   "mimetype": "text/x-python",
   "name": "python",
   "nbconvert_exporter": "python",
   "pygments_lexer": "ipython3",
   "version": "3.7.9"
  }
 },
 "nbformat": 4,
 "nbformat_minor": 4
}
