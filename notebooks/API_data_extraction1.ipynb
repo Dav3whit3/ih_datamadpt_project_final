{
 "cells": [
  {
   "cell_type": "code",
   "execution_count": 1,
   "metadata": {},
   "outputs": [],
   "source": [
    "import requests\n",
    "from bs4 import BeautifulSoup\n",
    "import pandas as pd\n",
    "import numpy as np\n",
    "import plotly.graph_objects as go\n",
    "from datetime import datetime\n",
    "#import matplotlib.pyplot as plt\n",
    "#import seaborn as sns\n",
    "#%matplotlib inline"
   ]
  },
  {
   "cell_type": "code",
   "execution_count": 2,
   "metadata": {},
   "outputs": [],
   "source": [
    "summoner = 'Saikki kusuo'\n",
    "key = 'RGAPI-9724b32a-f354-408c-8cde-8fdcc35e01fa'"
   ]
  },
  {
   "cell_type": "markdown",
   "metadata": {},
   "source": [
    "## Extracting Functions"
   ]
  },
  {
   "cell_type": "code",
   "execution_count": 3,
   "metadata": {},
   "outputs": [],
   "source": [
    "# Summoner v4, /lol/summoner/v4/summoners/by-name/{summonerName}\n",
    "# Get summoner info by name using API key and summoner name\n",
    "\n",
    "def get_summoner_info(summoner_name, apikey):\n",
    "    # This function takes the summoner name and the API Key\n",
    "    # and retrieves its account id\n",
    "    url = f'https://euw1.api.riotgames.com/lol/summoner/v4/summoners/by-name/{summoner_name}'\n",
    "    html = requests.get(url,\n",
    "                       params={'api_key': apikey})\n",
    "    json = html.json()\n",
    "    df = pd.DataFrame(json, index=[0])\n",
    "    \n",
    "    return df"
   ]
  },
  {
   "cell_type": "code",
   "execution_count": 4,
   "metadata": {},
   "outputs": [],
   "source": [
    "def get_matchlist(accountid, api, champions):\n",
    "    \n",
    "    url = f'https://euw1.api.riotgames.com/lol/match/v4/matchlists/by-account/{accountid}'\n",
    "    html = requests.get(url,\n",
    "                       params={'api_key': key})\n",
    "    json = html.json()\n",
    "    df = pd.DataFrame(json['matches'])\n",
    "    df['timestamp'] = df['timestamp'].apply(lambda x: datetime.fromtimestamp(x/1000).strftime('%c'))\n",
    "    df = df.merge(champions, left_on='champion', right_on='champion', how='left')\n",
    "    df = df.merge(queues, left_on='queue', right_on='queue', how='left')\n",
    "    \n",
    "    df.drop(['champion','queue'], axis=1, inplace=True)\n",
    "    df.rename({'name': 'champion', 'queue_type': 'queue'})\n",
    "    \n",
    "    return df"
   ]
  },
  {
   "cell_type": "code",
   "execution_count": 5,
   "metadata": {},
   "outputs": [],
   "source": [
    "def get_match_info(matchid):\n",
    "    \n",
    "    url = f'https://euw1.api.riotgames.com/lol/match/v4/matches/{matchid}'\n",
    "    html = requests.get(url,\n",
    "                    params={'api_key': key})\n",
    "    json = html.json()\n",
    "    \n",
    "    return json"
   ]
  },
  {
   "cell_type": "code",
   "execution_count": 6,
   "metadata": {},
   "outputs": [],
   "source": [
    "def get_players_info(json):\n",
    "        \n",
    "    players = pd.DataFrame()\n",
    "    \n",
    "    for participant in range(10):\n",
    "        df = pd.DataFrame.from_dict(json['participants'][participant]['stats'], orient='index').T\n",
    "        df.insert(loc=0, column='championId', value= json['participants'][participant]['championId'])\n",
    "        df.insert(loc=1, column='teamId', value=json['participants'][participant]['teamId'])\n",
    "        \n",
    "        dff = pd.DataFrame.from_dict(json['participantIdentities'][participant]['player'], orient='index').T\n",
    "        dff.insert(loc=0, column='participantId', value= json['participantIdentities'][participant]['participantId'])\n",
    "        df_final = pd.merge(df, dff, on='participantId')\n",
    "        \n",
    "        players = players.append(df_final)\n",
    "    \n",
    "    players.insert(loc=0, column='gameid', value=[json['gameId'] for value in range(len(players))])\n",
    "        \n",
    "        \n",
    "        \n",
    "    return players"
   ]
  },
  {
   "cell_type": "code",
   "execution_count": 7,
   "metadata": {},
   "outputs": [],
   "source": [
    "def get_match_timeline(matchid):\n",
    "\n",
    "    url= f'https://euw1.api.riotgames.com/lol/match/v4/timelines/by-match/{matchid}'\n",
    "    html = requests.get(url,\n",
    "                       params={'api_key': key})\n",
    "    json = html.json()\n",
    "    \n",
    "    return json"
   ]
  },
  {
   "cell_type": "code",
   "execution_count": 8,
   "metadata": {},
   "outputs": [],
   "source": [
    "def participant_frames(json, playersinfo):\n",
    "    ## Extracting frames from json\n",
    "\n",
    "    all_frames = pd.DataFrame()\n",
    "\n",
    "    for frame in list(range(len(json['frames']))):\n",
    "        iterable = json['frames'][frame]['participantFrames']\n",
    "        for elem in iterable:\n",
    "            dic = {}\n",
    "            for sub_elem in iterable[elem]:\n",
    "                if type(iterable[elem][sub_elem]) == dict:\n",
    "                    dic.update(iterable[elem][sub_elem])\n",
    "                else:\n",
    "                    dic[sub_elem] = iterable[elem][sub_elem]\n",
    "            df = pd.DataFrame(dic, index=[0])\n",
    "            df.insert(loc=0, column='timestamp', value=json['frames'][frame]['timestamp'])\n",
    "            all_frames = all_frames.append(df, ignore_index=True)\n",
    "\n",
    "    cols = ['timestamp', 'participantId', 'x', 'y', 'currentGold', 'totalGold', 'level',\n",
    "            'xp', 'minionsKilled', 'jungleMinionsKilled',\n",
    "            # 'dominionScore','teamScore',\n",
    "            ]\n",
    "    all_frames = all_frames[cols]\n",
    "    \n",
    "    teams = playersinfo[['participantId','teamId']]\n",
    "    frames = pd.merge(all_frames, teams, on='participantId')\n",
    "    frames['timestamp'] = (frames['timestamp'] / 60000).astype('int')\n",
    "\n",
    "    return frames"
   ]
  },
  {
   "cell_type": "code",
   "execution_count": 9,
   "metadata": {},
   "outputs": [],
   "source": [
    "def get_events(json):\n",
    "    \n",
    "    events = pd.DataFrame()\n",
    "    \n",
    "    frames = json['frames']\n",
    "    for elem in range(len(frames)):\n",
    "        events = events.append(pd.DataFrame(frames[elem]['events']))\n",
    "    \n",
    "    \n",
    "    events['position_x'] = [elem.get('x') if type(elem) == dict else 'none' for elem in events['position']]\n",
    "    events['position_y'] = [elem.get('y') if type(elem) == dict else 'none' for elem in events['position']]\n",
    "    events.drop(columns='position', inplace=True)\n",
    "    \n",
    "    return events"
   ]
  },
  {
   "cell_type": "code",
   "execution_count": 10,
   "metadata": {},
   "outputs": [],
   "source": [
    "def get_championsid(api):\n",
    "    url = 'http://ddragon.leagueoflegends.com/cdn/10.21.1/data/en_US/champion.json'\n",
    "\n",
    "    html = requests.get(url,\n",
    "                        params={'api_key': api})\n",
    "    json = html.json()\n",
    "\n",
    "    champions = pd.DataFrame()\n",
    "    for champ in json['data'].keys():\n",
    "        df = pd.DataFrame({'name': json['data'][f'{champ}']['id'], 'champion': json['data'][f'{champ}']['key']},\n",
    "                          index=[0])\n",
    "        champions = champions.append(df, ignore_index=True)\n",
    "    champions['champion'] = champions['champion'].astype('int')\n",
    "    \n",
    "    return champions"
   ]
  },
  {
   "cell_type": "code",
   "execution_count": 11,
   "metadata": {},
   "outputs": [],
   "source": [
    "def get_queuesid(api):\n",
    "    url = 'http://static.developer.riotgames.com/docs/lol/queues.json'\n",
    "    html = requests.get(url,\n",
    "                        params={'api_key': api})\n",
    "    json = html.json()\n",
    "\n",
    "    queuesid = pd.DataFrame()\n",
    "    for queue in json:\n",
    "        df = pd.DataFrame({'queue': queue['queueId'], 'queue_type': queue['description']},\n",
    "                          index=[0])\n",
    "        queuesid = queuesid.append(df, ignore_index=True)\n",
    "\n",
    "    return queuesid"
   ]
  },
  {
   "cell_type": "code",
   "execution_count": 12,
   "metadata": {},
   "outputs": [
    {
     "data": {
      "text/plain": [
       "'djQlAoXhpBz5y5YjoYJkpS-kVvZQx4Caj8DElKzSEPmJo8c'"
      ]
     },
     "execution_count": 12,
     "metadata": {},
     "output_type": "execute_result"
    }
   ],
   "source": [
    "summoner_info = get_summoner_info(summoner, key)\n",
    "accountid = summoner_info['accountId'][0]\n",
    "accountid"
   ]
  },
  {
   "cell_type": "code",
   "execution_count": 13,
   "metadata": {
    "scrolled": true
   },
   "outputs": [
    {
     "data": {
      "text/html": [
       "<div>\n",
       "<style scoped>\n",
       "    .dataframe tbody tr th:only-of-type {\n",
       "        vertical-align: middle;\n",
       "    }\n",
       "\n",
       "    .dataframe tbody tr th {\n",
       "        vertical-align: top;\n",
       "    }\n",
       "\n",
       "    .dataframe thead th {\n",
       "        text-align: right;\n",
       "    }\n",
       "</style>\n",
       "<table border=\"1\" class=\"dataframe\">\n",
       "  <thead>\n",
       "    <tr style=\"text-align: right;\">\n",
       "      <th></th>\n",
       "      <th>id</th>\n",
       "      <th>accountId</th>\n",
       "      <th>puuid</th>\n",
       "      <th>name</th>\n",
       "      <th>profileIconId</th>\n",
       "      <th>revisionDate</th>\n",
       "      <th>summonerLevel</th>\n",
       "    </tr>\n",
       "  </thead>\n",
       "  <tbody>\n",
       "    <tr>\n",
       "      <th>0</th>\n",
       "      <td>iqJz7QEm4AJIHuEKecIyvBZ65qaANfGcYM9iYL-S_FT2ddQ</td>\n",
       "      <td>djQlAoXhpBz5y5YjoYJkpS-kVvZQx4Caj8DElKzSEPmJo8c</td>\n",
       "      <td>9XoYu4fgD-ybcBawfY2XsMsGgvv9Av44llBjAhHFZk-nX5...</td>\n",
       "      <td>Saikki Kusuo</td>\n",
       "      <td>4249</td>\n",
       "      <td>1602858817000</td>\n",
       "      <td>193</td>\n",
       "    </tr>\n",
       "  </tbody>\n",
       "</table>\n",
       "</div>"
      ],
      "text/plain": [
       "                                                id  \\\n",
       "0  iqJz7QEm4AJIHuEKecIyvBZ65qaANfGcYM9iYL-S_FT2ddQ   \n",
       "\n",
       "                                         accountId  \\\n",
       "0  djQlAoXhpBz5y5YjoYJkpS-kVvZQx4Caj8DElKzSEPmJo8c   \n",
       "\n",
       "                                               puuid          name  \\\n",
       "0  9XoYu4fgD-ybcBawfY2XsMsGgvv9Av44llBjAhHFZk-nX5...  Saikki Kusuo   \n",
       "\n",
       "   profileIconId   revisionDate  summonerLevel  \n",
       "0           4249  1602858817000            193  "
      ]
     },
     "execution_count": 13,
     "metadata": {},
     "output_type": "execute_result"
    }
   ],
   "source": [
    "summoner_info = get_summoner_info(summoner, key)\n",
    "summoner_info"
   ]
  },
  {
   "cell_type": "code",
   "execution_count": 14,
   "metadata": {},
   "outputs": [],
   "source": [
    "champions = get_championsid(key)\n",
    "queues = get_queuesid(key)"
   ]
  },
  {
   "cell_type": "code",
   "execution_count": 15,
   "metadata": {},
   "outputs": [
    {
     "data": {
      "text/html": [
       "<div>\n",
       "<style scoped>\n",
       "    .dataframe tbody tr th:only-of-type {\n",
       "        vertical-align: middle;\n",
       "    }\n",
       "\n",
       "    .dataframe tbody tr th {\n",
       "        vertical-align: top;\n",
       "    }\n",
       "\n",
       "    .dataframe thead th {\n",
       "        text-align: right;\n",
       "    }\n",
       "</style>\n",
       "<table border=\"1\" class=\"dataframe\">\n",
       "  <thead>\n",
       "    <tr style=\"text-align: right;\">\n",
       "      <th></th>\n",
       "      <th>platformId</th>\n",
       "      <th>gameId</th>\n",
       "      <th>season</th>\n",
       "      <th>timestamp</th>\n",
       "      <th>role</th>\n",
       "      <th>lane</th>\n",
       "      <th>name</th>\n",
       "      <th>queue_type</th>\n",
       "    </tr>\n",
       "  </thead>\n",
       "  <tbody>\n",
       "    <tr>\n",
       "      <th>0</th>\n",
       "      <td>EUW1</td>\n",
       "      <td>4881443353</td>\n",
       "      <td>13</td>\n",
       "      <td>Wed Oct 21 17:51:23 2020</td>\n",
       "      <td>SOLO</td>\n",
       "      <td>TOP</td>\n",
       "      <td>Shen</td>\n",
       "      <td>5v5 Ranked Solo games</td>\n",
       "    </tr>\n",
       "    <tr>\n",
       "      <th>1</th>\n",
       "      <td>EUW1</td>\n",
       "      <td>4880687844</td>\n",
       "      <td>13</td>\n",
       "      <td>Wed Oct 21 13:36:47 2020</td>\n",
       "      <td>DUO_SUPPORT</td>\n",
       "      <td>BOTTOM</td>\n",
       "      <td>Xerath</td>\n",
       "      <td>5v5 Ranked Solo games</td>\n",
       "    </tr>\n",
       "    <tr>\n",
       "      <th>2</th>\n",
       "      <td>EUW1</td>\n",
       "      <td>4880662182</td>\n",
       "      <td>13</td>\n",
       "      <td>Wed Oct 21 12:35:13 2020</td>\n",
       "      <td>DUO_CARRY</td>\n",
       "      <td>BOTTOM</td>\n",
       "      <td>Ezreal</td>\n",
       "      <td>5v5 Ranked Solo games</td>\n",
       "    </tr>\n",
       "    <tr>\n",
       "      <th>3</th>\n",
       "      <td>EUW1</td>\n",
       "      <td>4879567107</td>\n",
       "      <td>13</td>\n",
       "      <td>Tue Oct 20 18:08:04 2020</td>\n",
       "      <td>DUO_CARRY</td>\n",
       "      <td>BOTTOM</td>\n",
       "      <td>Jinx</td>\n",
       "      <td>5v5 Ranked Solo games</td>\n",
       "    </tr>\n",
       "    <tr>\n",
       "      <th>4</th>\n",
       "      <td>EUW1</td>\n",
       "      <td>4879483641</td>\n",
       "      <td>13</td>\n",
       "      <td>Tue Oct 20 16:46:37 2020</td>\n",
       "      <td>DUO_CARRY</td>\n",
       "      <td>BOTTOM</td>\n",
       "      <td>Jhin</td>\n",
       "      <td>5v5 Ranked Solo games</td>\n",
       "    </tr>\n",
       "    <tr>\n",
       "      <th>...</th>\n",
       "      <td>...</td>\n",
       "      <td>...</td>\n",
       "      <td>...</td>\n",
       "      <td>...</td>\n",
       "      <td>...</td>\n",
       "      <td>...</td>\n",
       "      <td>...</td>\n",
       "      <td>...</td>\n",
       "    </tr>\n",
       "    <tr>\n",
       "      <th>95</th>\n",
       "      <td>EUW1</td>\n",
       "      <td>4838903775</td>\n",
       "      <td>13</td>\n",
       "      <td>Sun Sep 27 18:11:59 2020</td>\n",
       "      <td>DUO_SUPPORT</td>\n",
       "      <td>NONE</td>\n",
       "      <td>Ezreal</td>\n",
       "      <td>5v5 Ranked Solo games</td>\n",
       "    </tr>\n",
       "    <tr>\n",
       "      <th>96</th>\n",
       "      <td>EUW1</td>\n",
       "      <td>4838455561</td>\n",
       "      <td>13</td>\n",
       "      <td>Sun Sep 27 13:44:28 2020</td>\n",
       "      <td>SOLO</td>\n",
       "      <td>TOP</td>\n",
       "      <td>Gangplank</td>\n",
       "      <td>5v5 Ranked Solo games</td>\n",
       "    </tr>\n",
       "    <tr>\n",
       "      <th>97</th>\n",
       "      <td>EUW1</td>\n",
       "      <td>4838349976</td>\n",
       "      <td>13</td>\n",
       "      <td>Sun Sep 27 13:04:48 2020</td>\n",
       "      <td>SOLO</td>\n",
       "      <td>TOP</td>\n",
       "      <td>Akali</td>\n",
       "      <td>5v5 Ranked Solo games</td>\n",
       "    </tr>\n",
       "    <tr>\n",
       "      <th>98</th>\n",
       "      <td>EUW1</td>\n",
       "      <td>4837079410</td>\n",
       "      <td>13</td>\n",
       "      <td>Sat Sep 26 17:48:41 2020</td>\n",
       "      <td>DUO_SUPPORT</td>\n",
       "      <td>TOP</td>\n",
       "      <td>Brand</td>\n",
       "      <td>5v5 ARAM games</td>\n",
       "    </tr>\n",
       "    <tr>\n",
       "      <th>99</th>\n",
       "      <td>EUW1</td>\n",
       "      <td>4837048701</td>\n",
       "      <td>13</td>\n",
       "      <td>Sat Sep 26 16:57:11 2020</td>\n",
       "      <td>NONE</td>\n",
       "      <td>JUNGLE</td>\n",
       "      <td>Shen</td>\n",
       "      <td>5v5 Ranked Solo games</td>\n",
       "    </tr>\n",
       "  </tbody>\n",
       "</table>\n",
       "<p>100 rows × 8 columns</p>\n",
       "</div>"
      ],
      "text/plain": [
       "   platformId      gameId  season                 timestamp         role  \\\n",
       "0        EUW1  4881443353      13  Wed Oct 21 17:51:23 2020         SOLO   \n",
       "1        EUW1  4880687844      13  Wed Oct 21 13:36:47 2020  DUO_SUPPORT   \n",
       "2        EUW1  4880662182      13  Wed Oct 21 12:35:13 2020    DUO_CARRY   \n",
       "3        EUW1  4879567107      13  Tue Oct 20 18:08:04 2020    DUO_CARRY   \n",
       "4        EUW1  4879483641      13  Tue Oct 20 16:46:37 2020    DUO_CARRY   \n",
       "..        ...         ...     ...                       ...          ...   \n",
       "95       EUW1  4838903775      13  Sun Sep 27 18:11:59 2020  DUO_SUPPORT   \n",
       "96       EUW1  4838455561      13  Sun Sep 27 13:44:28 2020         SOLO   \n",
       "97       EUW1  4838349976      13  Sun Sep 27 13:04:48 2020         SOLO   \n",
       "98       EUW1  4837079410      13  Sat Sep 26 17:48:41 2020  DUO_SUPPORT   \n",
       "99       EUW1  4837048701      13  Sat Sep 26 16:57:11 2020         NONE   \n",
       "\n",
       "      lane       name             queue_type  \n",
       "0      TOP       Shen  5v5 Ranked Solo games  \n",
       "1   BOTTOM     Xerath  5v5 Ranked Solo games  \n",
       "2   BOTTOM     Ezreal  5v5 Ranked Solo games  \n",
       "3   BOTTOM       Jinx  5v5 Ranked Solo games  \n",
       "4   BOTTOM       Jhin  5v5 Ranked Solo games  \n",
       "..     ...        ...                    ...  \n",
       "95    NONE     Ezreal  5v5 Ranked Solo games  \n",
       "96     TOP  Gangplank  5v5 Ranked Solo games  \n",
       "97     TOP      Akali  5v5 Ranked Solo games  \n",
       "98     TOP      Brand         5v5 ARAM games  \n",
       "99  JUNGLE       Shen  5v5 Ranked Solo games  \n",
       "\n",
       "[100 rows x 8 columns]"
      ]
     },
     "execution_count": 15,
     "metadata": {},
     "output_type": "execute_result"
    }
   ],
   "source": [
    "match_list = get_matchlist(accountid, key, champions)\n",
    "match_list"
   ]
  },
  {
   "cell_type": "code",
   "execution_count": 16,
   "metadata": {
    "scrolled": true
   },
   "outputs": [
    {
     "data": {
      "text/plain": [
       "[4881443353,\n",
       " 4880687844,\n",
       " 4880662182,\n",
       " 4879567107,\n",
       " 4879483641,\n",
       " 4879182781,\n",
       " 4879210464,\n",
       " 4877596885,\n",
       " 4877250033,\n",
       " 4876228611]"
      ]
     },
     "execution_count": 16,
     "metadata": {},
     "output_type": "execute_result"
    }
   ],
   "source": [
    "list(match_list['gameId'].head(10))"
   ]
  },
  {
   "cell_type": "code",
   "execution_count": 17,
   "metadata": {},
   "outputs": [],
   "source": [
    "match_info = get_match_info(4881443353)"
   ]
  },
  {
   "cell_type": "code",
   "execution_count": null,
   "metadata": {},
   "outputs": [],
   "source": []
  },
  {
   "cell_type": "code",
   "execution_count": 18,
   "metadata": {},
   "outputs": [
    {
     "data": {
      "text/html": [
       "<div>\n",
       "<style scoped>\n",
       "    .dataframe tbody tr th:only-of-type {\n",
       "        vertical-align: middle;\n",
       "    }\n",
       "\n",
       "    .dataframe tbody tr th {\n",
       "        vertical-align: top;\n",
       "    }\n",
       "\n",
       "    .dataframe thead th {\n",
       "        text-align: right;\n",
       "    }\n",
       "</style>\n",
       "<table border=\"1\" class=\"dataframe\">\n",
       "  <thead>\n",
       "    <tr style=\"text-align: right;\">\n",
       "      <th></th>\n",
       "      <th>gameid</th>\n",
       "      <th>championId</th>\n",
       "      <th>teamId</th>\n",
       "      <th>participantId</th>\n",
       "      <th>win</th>\n",
       "      <th>item0</th>\n",
       "      <th>item1</th>\n",
       "      <th>item2</th>\n",
       "      <th>item3</th>\n",
       "      <th>item4</th>\n",
       "      <th>...</th>\n",
       "      <th>statPerk1</th>\n",
       "      <th>statPerk2</th>\n",
       "      <th>platformId</th>\n",
       "      <th>accountId</th>\n",
       "      <th>summonerName</th>\n",
       "      <th>summonerId</th>\n",
       "      <th>currentPlatformId</th>\n",
       "      <th>currentAccountId</th>\n",
       "      <th>matchHistoryUri</th>\n",
       "      <th>profileIcon</th>\n",
       "    </tr>\n",
       "  </thead>\n",
       "  <tbody>\n",
       "    <tr>\n",
       "      <th>0</th>\n",
       "      <td>4881443353</td>\n",
       "      <td>202</td>\n",
       "      <td>100</td>\n",
       "      <td>1</td>\n",
       "      <td>True</td>\n",
       "      <td>1055</td>\n",
       "      <td>3095</td>\n",
       "      <td>3094</td>\n",
       "      <td>3009</td>\n",
       "      <td>3031</td>\n",
       "      <td>...</td>\n",
       "      <td>5008</td>\n",
       "      <td>5002</td>\n",
       "      <td>EUW1</td>\n",
       "      <td>wXLcwHWweRoQmuojKzRrcq_nQ1ASA2sP0pa13GRVfpE0zw</td>\n",
       "      <td>CtT Stikul</td>\n",
       "      <td>uIJ-ghiskFuqXxEOK5d-pDgmtvgYgv-3oD2MTBcvMxg7kqE</td>\n",
       "      <td>EUW1</td>\n",
       "      <td>wXLcwHWweRoQmuojKzRrcq_nQ1ASA2sP0pa13GRVfpE0zw</td>\n",
       "      <td>/v1/stats/player_history/EUW1/28492033</td>\n",
       "      <td>3006</td>\n",
       "    </tr>\n",
       "    <tr>\n",
       "      <th>0</th>\n",
       "      <td>4881443353</td>\n",
       "      <td>238</td>\n",
       "      <td>100</td>\n",
       "      <td>2</td>\n",
       "      <td>True</td>\n",
       "      <td>3044</td>\n",
       "      <td>3142</td>\n",
       "      <td>0</td>\n",
       "      <td>3147</td>\n",
       "      <td>3067</td>\n",
       "      <td>...</td>\n",
       "      <td>5008</td>\n",
       "      <td>5003</td>\n",
       "      <td>EUW1</td>\n",
       "      <td>pmDuyAR_R7t4K4tcQZZLhaeLG7xaNFpbrzAwWUgFc9d4C38</td>\n",
       "      <td>SneaKy Ratz</td>\n",
       "      <td>aosz9yyK4wD83PO7IT7lwqyTkK3SRbl1S5jZZLkj_28_-ps</td>\n",
       "      <td>EUW1</td>\n",
       "      <td>pmDuyAR_R7t4K4tcQZZLhaeLG7xaNFpbrzAwWUgFc9d4C38</td>\n",
       "      <td>/v1/stats/player_history/EUW1/218049179</td>\n",
       "      <td>4791</td>\n",
       "    </tr>\n",
       "    <tr>\n",
       "      <th>0</th>\n",
       "      <td>4881443353</td>\n",
       "      <td>98</td>\n",
       "      <td>100</td>\n",
       "      <td>3</td>\n",
       "      <td>True</td>\n",
       "      <td>1054</td>\n",
       "      <td>3111</td>\n",
       "      <td>3748</td>\n",
       "      <td>3075</td>\n",
       "      <td>3751</td>\n",
       "      <td>...</td>\n",
       "      <td>5008</td>\n",
       "      <td>5002</td>\n",
       "      <td>EUW1</td>\n",
       "      <td>djQlAoXhpBz5y5YjoYJkpS-kVvZQx4Caj8DElKzSEPmJo8c</td>\n",
       "      <td>Saikki Kusuo</td>\n",
       "      <td>iqJz7QEm4AJIHuEKecIyvBZ65qaANfGcYM9iYL-S_FT2ddQ</td>\n",
       "      <td>EUW1</td>\n",
       "      <td>djQlAoXhpBz5y5YjoYJkpS-kVvZQx4Caj8DElKzSEPmJo8c</td>\n",
       "      <td>/v1/stats/player_history/EUW1/229546365</td>\n",
       "      <td>4249</td>\n",
       "    </tr>\n",
       "    <tr>\n",
       "      <th>0</th>\n",
       "      <td>4881443353</td>\n",
       "      <td>32</td>\n",
       "      <td>100</td>\n",
       "      <td>4</td>\n",
       "      <td>True</td>\n",
       "      <td>1401</td>\n",
       "      <td>2031</td>\n",
       "      <td>3047</td>\n",
       "      <td>3001</td>\n",
       "      <td>3076</td>\n",
       "      <td>...</td>\n",
       "      <td>5002</td>\n",
       "      <td>5003</td>\n",
       "      <td>EUW1</td>\n",
       "      <td>U-GtCGrXCPDaiU34oGFMKzsIpNesH3HDmLtlaOYWTadHT34</td>\n",
       "      <td>Łiodace</td>\n",
       "      <td>CZvluB0dE7c61YoSNUuZMILsKLu1XUFCftDcBdO8KYQ7Kgo5</td>\n",
       "      <td>EUW1</td>\n",
       "      <td>U-GtCGrXCPDaiU34oGFMKzsIpNesH3HDmLtlaOYWTadHT34</td>\n",
       "      <td>/v1/stats/player_history/EUW1/238992275</td>\n",
       "      <td>4050</td>\n",
       "    </tr>\n",
       "    <tr>\n",
       "      <th>0</th>\n",
       "      <td>4881443353</td>\n",
       "      <td>43</td>\n",
       "      <td>100</td>\n",
       "      <td>5</td>\n",
       "      <td>True</td>\n",
       "      <td>3117</td>\n",
       "      <td>3504</td>\n",
       "      <td>3853</td>\n",
       "      <td>3174</td>\n",
       "      <td>3801</td>\n",
       "      <td>...</td>\n",
       "      <td>5003</td>\n",
       "      <td>5002</td>\n",
       "      <td>EUW1</td>\n",
       "      <td>o0kTovcD4_W2VUgXRwukOwbLA2LG5i-xcFWw-GNEOuzsqg...</td>\n",
       "      <td>Gaarq</td>\n",
       "      <td>lfP4mihfQD1P-gAaYfDCVzwWoUMzEPs4klAWAyZFVuNG6LUq</td>\n",
       "      <td>EUW1</td>\n",
       "      <td>o0kTovcD4_W2VUgXRwukOwbLA2LG5i-xcFWw-GNEOuzsqg...</td>\n",
       "      <td>/v1/stats/player_history/EUW1/2288024466639360</td>\n",
       "      <td>4568</td>\n",
       "    </tr>\n",
       "    <tr>\n",
       "      <th>0</th>\n",
       "      <td>4881443353</td>\n",
       "      <td>103</td>\n",
       "      <td>200</td>\n",
       "      <td>6</td>\n",
       "      <td>False</td>\n",
       "      <td>2031</td>\n",
       "      <td>1056</td>\n",
       "      <td>3020</td>\n",
       "      <td>3285</td>\n",
       "      <td>1052</td>\n",
       "      <td>...</td>\n",
       "      <td>5008</td>\n",
       "      <td>5002</td>\n",
       "      <td>TR1</td>\n",
       "      <td>Kg8l_c1969uonqp5B9yyund6pJmmvfidsd29lODSZOM</td>\n",
       "      <td>Paxera</td>\n",
       "      <td>jBLqBl_QtQvxlBcD9MLYLgnVMB2KWpL2zd-Y0g4jUj4r4sw</td>\n",
       "      <td>EUW1</td>\n",
       "      <td>km_FP-KllgGbIF7gyJ3Gwx-VH-btjPAd89dFBB7wayTKB-g</td>\n",
       "      <td>/v1/stats/player_history/TR1/554648</td>\n",
       "      <td>4423</td>\n",
       "    </tr>\n",
       "    <tr>\n",
       "      <th>0</th>\n",
       "      <td>4881443353</td>\n",
       "      <td>18</td>\n",
       "      <td>200</td>\n",
       "      <td>7</td>\n",
       "      <td>False</td>\n",
       "      <td>1054</td>\n",
       "      <td>2003</td>\n",
       "      <td>3006</td>\n",
       "      <td>3031</td>\n",
       "      <td>3095</td>\n",
       "      <td>...</td>\n",
       "      <td>5008</td>\n",
       "      <td>5002</td>\n",
       "      <td>EUW1</td>\n",
       "      <td>SqH4OKaWp8o4aWdifYDX9eQXLjhgEWkBmP0t6gtiHiM1fD...</td>\n",
       "      <td>LeV3nt</td>\n",
       "      <td>bF5ALlyxoEosqEiBD-S9zcSzuOL-WMClrprqlh9XUtaSa0X1</td>\n",
       "      <td>EUW1</td>\n",
       "      <td>SqH4OKaWp8o4aWdifYDX9eQXLjhgEWkBmP0t6gtiHiM1fD...</td>\n",
       "      <td>/v1/stats/player_history/EUW1/2047301200688000</td>\n",
       "      <td>3785</td>\n",
       "    </tr>\n",
       "    <tr>\n",
       "      <th>0</th>\n",
       "      <td>4881443353</td>\n",
       "      <td>254</td>\n",
       "      <td>200</td>\n",
       "      <td>8</td>\n",
       "      <td>False</td>\n",
       "      <td>1400</td>\n",
       "      <td>3078</td>\n",
       "      <td>3047</td>\n",
       "      <td>1036</td>\n",
       "      <td>0</td>\n",
       "      <td>...</td>\n",
       "      <td>5008</td>\n",
       "      <td>5002</td>\n",
       "      <td>EUW1</td>\n",
       "      <td>2LQDxM5qm6cw0Zhrb-sK3PEnbQELNcpwaDrM2rETc4I0sEA</td>\n",
       "      <td>Mirkudo</td>\n",
       "      <td>oo7QcFsb85I-FoZDnxCuLDoQh27IqHTFiTGtBTCuQV7X5jg</td>\n",
       "      <td>EUW1</td>\n",
       "      <td>2LQDxM5qm6cw0Zhrb-sK3PEnbQELNcpwaDrM2rETc4I0sEA</td>\n",
       "      <td>/v1/stats/player_history/EUW1/226345457</td>\n",
       "      <td>1625</td>\n",
       "    </tr>\n",
       "    <tr>\n",
       "      <th>0</th>\n",
       "      <td>4881443353</td>\n",
       "      <td>99</td>\n",
       "      <td>200</td>\n",
       "      <td>9</td>\n",
       "      <td>False</td>\n",
       "      <td>3851</td>\n",
       "      <td>3802</td>\n",
       "      <td>3020</td>\n",
       "      <td>1026</td>\n",
       "      <td>1052</td>\n",
       "      <td>...</td>\n",
       "      <td>5003</td>\n",
       "      <td>5002</td>\n",
       "      <td>EUW1</td>\n",
       "      <td>DUrEFw9BrrNDLQANvmrIi8TN4T6qPDRpqnrG97LhZ533Vw</td>\n",
       "      <td>Køré</td>\n",
       "      <td>rsamsoji_QRlh1tClVrKkYlsGpMtpcc_8g-TPF-PSdhnDfI</td>\n",
       "      <td>EUW1</td>\n",
       "      <td>DUrEFw9BrrNDLQANvmrIi8TN4T6qPDRpqnrG97LhZ533Vw</td>\n",
       "      <td>/v1/stats/player_history/EUW1/25649248</td>\n",
       "      <td>4631</td>\n",
       "    </tr>\n",
       "    <tr>\n",
       "      <th>0</th>\n",
       "      <td>4881443353</td>\n",
       "      <td>41</td>\n",
       "      <td>200</td>\n",
       "      <td>10</td>\n",
       "      <td>False</td>\n",
       "      <td>3078</td>\n",
       "      <td>1038</td>\n",
       "      <td>2033</td>\n",
       "      <td>0</td>\n",
       "      <td>0</td>\n",
       "      <td>...</td>\n",
       "      <td>5008</td>\n",
       "      <td>5002</td>\n",
       "      <td>EUW1</td>\n",
       "      <td>iudSK2ZZQVE5M0QDL6tttWnQIqC2dn81SJ3vCh_rPn3RzyU</td>\n",
       "      <td>NerfCreeper</td>\n",
       "      <td>yFO5l9NoIHI8tmqOc3awnx-io-VInXMYKGIqhZActcWMibw</td>\n",
       "      <td>EUW1</td>\n",
       "      <td>iudSK2ZZQVE5M0QDL6tttWnQIqC2dn81SJ3vCh_rPn3RzyU</td>\n",
       "      <td>/v1/stats/player_history/EUW1/232084102</td>\n",
       "      <td>3587</td>\n",
       "    </tr>\n",
       "  </tbody>\n",
       "</table>\n",
       "<p>10 rows × 115 columns</p>\n",
       "</div>"
      ],
      "text/plain": [
       "       gameid  championId  teamId participantId    win item0 item1 item2  \\\n",
       "0  4881443353         202     100             1   True  1055  3095  3094   \n",
       "0  4881443353         238     100             2   True  3044  3142     0   \n",
       "0  4881443353          98     100             3   True  1054  3111  3748   \n",
       "0  4881443353          32     100             4   True  1401  2031  3047   \n",
       "0  4881443353          43     100             5   True  3117  3504  3853   \n",
       "0  4881443353         103     200             6  False  2031  1056  3020   \n",
       "0  4881443353          18     200             7  False  1054  2003  3006   \n",
       "0  4881443353         254     200             8  False  1400  3078  3047   \n",
       "0  4881443353          99     200             9  False  3851  3802  3020   \n",
       "0  4881443353          41     200            10  False  3078  1038  2033   \n",
       "\n",
       "  item3 item4  ... statPerk1 statPerk2 platformId  \\\n",
       "0  3009  3031  ...      5008      5002       EUW1   \n",
       "0  3147  3067  ...      5008      5003       EUW1   \n",
       "0  3075  3751  ...      5008      5002       EUW1   \n",
       "0  3001  3076  ...      5002      5003       EUW1   \n",
       "0  3174  3801  ...      5003      5002       EUW1   \n",
       "0  3285  1052  ...      5008      5002        TR1   \n",
       "0  3031  3095  ...      5008      5002       EUW1   \n",
       "0  1036     0  ...      5008      5002       EUW1   \n",
       "0  1026  1052  ...      5003      5002       EUW1   \n",
       "0     0     0  ...      5008      5002       EUW1   \n",
       "\n",
       "                                           accountId  summonerName  \\\n",
       "0     wXLcwHWweRoQmuojKzRrcq_nQ1ASA2sP0pa13GRVfpE0zw    CtT Stikul   \n",
       "0    pmDuyAR_R7t4K4tcQZZLhaeLG7xaNFpbrzAwWUgFc9d4C38   SneaKy Ratz   \n",
       "0    djQlAoXhpBz5y5YjoYJkpS-kVvZQx4Caj8DElKzSEPmJo8c  Saikki Kusuo   \n",
       "0    U-GtCGrXCPDaiU34oGFMKzsIpNesH3HDmLtlaOYWTadHT34       Łiodace   \n",
       "0  o0kTovcD4_W2VUgXRwukOwbLA2LG5i-xcFWw-GNEOuzsqg...         Gaarq   \n",
       "0        Kg8l_c1969uonqp5B9yyund6pJmmvfidsd29lODSZOM        Paxera   \n",
       "0  SqH4OKaWp8o4aWdifYDX9eQXLjhgEWkBmP0t6gtiHiM1fD...        LeV3nt   \n",
       "0    2LQDxM5qm6cw0Zhrb-sK3PEnbQELNcpwaDrM2rETc4I0sEA       Mirkudo   \n",
       "0     DUrEFw9BrrNDLQANvmrIi8TN4T6qPDRpqnrG97LhZ533Vw          Køré   \n",
       "0    iudSK2ZZQVE5M0QDL6tttWnQIqC2dn81SJ3vCh_rPn3RzyU   NerfCreeper   \n",
       "\n",
       "                                         summonerId currentPlatformId  \\\n",
       "0   uIJ-ghiskFuqXxEOK5d-pDgmtvgYgv-3oD2MTBcvMxg7kqE              EUW1   \n",
       "0   aosz9yyK4wD83PO7IT7lwqyTkK3SRbl1S5jZZLkj_28_-ps              EUW1   \n",
       "0   iqJz7QEm4AJIHuEKecIyvBZ65qaANfGcYM9iYL-S_FT2ddQ              EUW1   \n",
       "0  CZvluB0dE7c61YoSNUuZMILsKLu1XUFCftDcBdO8KYQ7Kgo5              EUW1   \n",
       "0  lfP4mihfQD1P-gAaYfDCVzwWoUMzEPs4klAWAyZFVuNG6LUq              EUW1   \n",
       "0   jBLqBl_QtQvxlBcD9MLYLgnVMB2KWpL2zd-Y0g4jUj4r4sw              EUW1   \n",
       "0  bF5ALlyxoEosqEiBD-S9zcSzuOL-WMClrprqlh9XUtaSa0X1              EUW1   \n",
       "0   oo7QcFsb85I-FoZDnxCuLDoQh27IqHTFiTGtBTCuQV7X5jg              EUW1   \n",
       "0   rsamsoji_QRlh1tClVrKkYlsGpMtpcc_8g-TPF-PSdhnDfI              EUW1   \n",
       "0   yFO5l9NoIHI8tmqOc3awnx-io-VInXMYKGIqhZActcWMibw              EUW1   \n",
       "\n",
       "                                    currentAccountId  \\\n",
       "0     wXLcwHWweRoQmuojKzRrcq_nQ1ASA2sP0pa13GRVfpE0zw   \n",
       "0    pmDuyAR_R7t4K4tcQZZLhaeLG7xaNFpbrzAwWUgFc9d4C38   \n",
       "0    djQlAoXhpBz5y5YjoYJkpS-kVvZQx4Caj8DElKzSEPmJo8c   \n",
       "0    U-GtCGrXCPDaiU34oGFMKzsIpNesH3HDmLtlaOYWTadHT34   \n",
       "0  o0kTovcD4_W2VUgXRwukOwbLA2LG5i-xcFWw-GNEOuzsqg...   \n",
       "0    km_FP-KllgGbIF7gyJ3Gwx-VH-btjPAd89dFBB7wayTKB-g   \n",
       "0  SqH4OKaWp8o4aWdifYDX9eQXLjhgEWkBmP0t6gtiHiM1fD...   \n",
       "0    2LQDxM5qm6cw0Zhrb-sK3PEnbQELNcpwaDrM2rETc4I0sEA   \n",
       "0     DUrEFw9BrrNDLQANvmrIi8TN4T6qPDRpqnrG97LhZ533Vw   \n",
       "0    iudSK2ZZQVE5M0QDL6tttWnQIqC2dn81SJ3vCh_rPn3RzyU   \n",
       "\n",
       "                                  matchHistoryUri profileIcon  \n",
       "0          /v1/stats/player_history/EUW1/28492033        3006  \n",
       "0         /v1/stats/player_history/EUW1/218049179        4791  \n",
       "0         /v1/stats/player_history/EUW1/229546365        4249  \n",
       "0         /v1/stats/player_history/EUW1/238992275        4050  \n",
       "0  /v1/stats/player_history/EUW1/2288024466639360        4568  \n",
       "0             /v1/stats/player_history/TR1/554648        4423  \n",
       "0  /v1/stats/player_history/EUW1/2047301200688000        3785  \n",
       "0         /v1/stats/player_history/EUW1/226345457        1625  \n",
       "0          /v1/stats/player_history/EUW1/25649248        4631  \n",
       "0         /v1/stats/player_history/EUW1/232084102        3587  \n",
       "\n",
       "[10 rows x 115 columns]"
      ]
     },
     "execution_count": 18,
     "metadata": {},
     "output_type": "execute_result"
    }
   ],
   "source": [
    "players_info = get_players_info(match_info)\n",
    "players_info"
   ]
  },
  {
   "cell_type": "code",
   "execution_count": 19,
   "metadata": {
    "scrolled": true
   },
   "outputs": [
    {
     "data": {
      "text/plain": [
       "True"
      ]
     },
     "execution_count": 19,
     "metadata": {},
     "output_type": "execute_result"
    }
   ],
   "source": [
    "players_info[players_info['summonerName'] == 'Saikki Kusuo']['win'][0]"
   ]
  },
  {
   "cell_type": "code",
   "execution_count": 20,
   "metadata": {},
   "outputs": [],
   "source": [
    "timeline = get_match_timeline(4881443353)"
   ]
  },
  {
   "cell_type": "code",
   "execution_count": 21,
   "metadata": {},
   "outputs": [
    {
     "data": {
      "text/html": [
       "<div>\n",
       "<style scoped>\n",
       "    .dataframe tbody tr th:only-of-type {\n",
       "        vertical-align: middle;\n",
       "    }\n",
       "\n",
       "    .dataframe tbody tr th {\n",
       "        vertical-align: top;\n",
       "    }\n",
       "\n",
       "    .dataframe thead th {\n",
       "        text-align: right;\n",
       "    }\n",
       "</style>\n",
       "<table border=\"1\" class=\"dataframe\">\n",
       "  <thead>\n",
       "    <tr style=\"text-align: right;\">\n",
       "      <th></th>\n",
       "      <th>timestamp</th>\n",
       "      <th>participantId</th>\n",
       "      <th>x</th>\n",
       "      <th>y</th>\n",
       "      <th>currentGold</th>\n",
       "      <th>totalGold</th>\n",
       "      <th>level</th>\n",
       "      <th>xp</th>\n",
       "      <th>minionsKilled</th>\n",
       "      <th>jungleMinionsKilled</th>\n",
       "      <th>teamId</th>\n",
       "    </tr>\n",
       "  </thead>\n",
       "  <tbody>\n",
       "    <tr>\n",
       "      <th>0</th>\n",
       "      <td>0</td>\n",
       "      <td>3</td>\n",
       "      <td>560</td>\n",
       "      <td>581</td>\n",
       "      <td>500</td>\n",
       "      <td>500</td>\n",
       "      <td>1</td>\n",
       "      <td>0</td>\n",
       "      <td>0</td>\n",
       "      <td>0</td>\n",
       "      <td>100</td>\n",
       "    </tr>\n",
       "    <tr>\n",
       "      <th>1</th>\n",
       "      <td>1</td>\n",
       "      <td>3</td>\n",
       "      <td>603</td>\n",
       "      <td>611</td>\n",
       "      <td>500</td>\n",
       "      <td>500</td>\n",
       "      <td>1</td>\n",
       "      <td>0</td>\n",
       "      <td>0</td>\n",
       "      <td>0</td>\n",
       "      <td>100</td>\n",
       "    </tr>\n",
       "    <tr>\n",
       "      <th>2</th>\n",
       "      <td>2</td>\n",
       "      <td>3</td>\n",
       "      <td>2077</td>\n",
       "      <td>11675</td>\n",
       "      <td>84</td>\n",
       "      <td>584</td>\n",
       "      <td>1</td>\n",
       "      <td>181</td>\n",
       "      <td>3</td>\n",
       "      <td>0</td>\n",
       "      <td>100</td>\n",
       "    </tr>\n",
       "    <tr>\n",
       "      <th>3</th>\n",
       "      <td>3</td>\n",
       "      <td>3</td>\n",
       "      <td>1456</td>\n",
       "      <td>10578</td>\n",
       "      <td>332</td>\n",
       "      <td>832</td>\n",
       "      <td>2</td>\n",
       "      <td>632</td>\n",
       "      <td>10</td>\n",
       "      <td>0</td>\n",
       "      <td>100</td>\n",
       "    </tr>\n",
       "    <tr>\n",
       "      <th>4</th>\n",
       "      <td>4</td>\n",
       "      <td>3</td>\n",
       "      <td>1631</td>\n",
       "      <td>11152</td>\n",
       "      <td>648</td>\n",
       "      <td>1148</td>\n",
       "      <td>4</td>\n",
       "      <td>1296</td>\n",
       "      <td>19</td>\n",
       "      <td>0</td>\n",
       "      <td>100</td>\n",
       "    </tr>\n",
       "    <tr>\n",
       "      <th>...</th>\n",
       "      <td>...</td>\n",
       "      <td>...</td>\n",
       "      <td>...</td>\n",
       "      <td>...</td>\n",
       "      <td>...</td>\n",
       "      <td>...</td>\n",
       "      <td>...</td>\n",
       "      <td>...</td>\n",
       "      <td>...</td>\n",
       "      <td>...</td>\n",
       "      <td>...</td>\n",
       "    </tr>\n",
       "    <tr>\n",
       "      <th>235</th>\n",
       "      <td>19</td>\n",
       "      <td>9</td>\n",
       "      <td>9508</td>\n",
       "      <td>12740</td>\n",
       "      <td>852</td>\n",
       "      <td>4202</td>\n",
       "      <td>9</td>\n",
       "      <td>5429</td>\n",
       "      <td>15</td>\n",
       "      <td>0</td>\n",
       "      <td>200</td>\n",
       "    </tr>\n",
       "    <tr>\n",
       "      <th>236</th>\n",
       "      <td>20</td>\n",
       "      <td>9</td>\n",
       "      <td>11421</td>\n",
       "      <td>11857</td>\n",
       "      <td>206</td>\n",
       "      <td>4406</td>\n",
       "      <td>9</td>\n",
       "      <td>5797</td>\n",
       "      <td>18</td>\n",
       "      <td>0</td>\n",
       "      <td>200</td>\n",
       "    </tr>\n",
       "    <tr>\n",
       "      <th>237</th>\n",
       "      <td>21</td>\n",
       "      <td>9</td>\n",
       "      <td>12957</td>\n",
       "      <td>13598</td>\n",
       "      <td>691</td>\n",
       "      <td>4891</td>\n",
       "      <td>10</td>\n",
       "      <td>6294</td>\n",
       "      <td>19</td>\n",
       "      <td>0</td>\n",
       "      <td>200</td>\n",
       "    </tr>\n",
       "    <tr>\n",
       "      <th>238</th>\n",
       "      <td>22</td>\n",
       "      <td>9</td>\n",
       "      <td>11789</td>\n",
       "      <td>12664</td>\n",
       "      <td>166</td>\n",
       "      <td>5201</td>\n",
       "      <td>10</td>\n",
       "      <td>6783</td>\n",
       "      <td>21</td>\n",
       "      <td>0</td>\n",
       "      <td>200</td>\n",
       "    </tr>\n",
       "    <tr>\n",
       "      <th>239</th>\n",
       "      <td>23</td>\n",
       "      <td>9</td>\n",
       "      <td>10192</td>\n",
       "      <td>13617</td>\n",
       "      <td>337</td>\n",
       "      <td>5372</td>\n",
       "      <td>10</td>\n",
       "      <td>6783</td>\n",
       "      <td>21</td>\n",
       "      <td>0</td>\n",
       "      <td>200</td>\n",
       "    </tr>\n",
       "  </tbody>\n",
       "</table>\n",
       "<p>240 rows × 11 columns</p>\n",
       "</div>"
      ],
      "text/plain": [
       "     timestamp participantId      x      y  currentGold  totalGold  level  \\\n",
       "0            0             3    560    581          500        500      1   \n",
       "1            1             3    603    611          500        500      1   \n",
       "2            2             3   2077  11675           84        584      1   \n",
       "3            3             3   1456  10578          332        832      2   \n",
       "4            4             3   1631  11152          648       1148      4   \n",
       "..         ...           ...    ...    ...          ...        ...    ...   \n",
       "235         19             9   9508  12740          852       4202      9   \n",
       "236         20             9  11421  11857          206       4406      9   \n",
       "237         21             9  12957  13598          691       4891     10   \n",
       "238         22             9  11789  12664          166       5201     10   \n",
       "239         23             9  10192  13617          337       5372     10   \n",
       "\n",
       "       xp  minionsKilled  jungleMinionsKilled  teamId  \n",
       "0       0              0                    0     100  \n",
       "1       0              0                    0     100  \n",
       "2     181              3                    0     100  \n",
       "3     632             10                    0     100  \n",
       "4    1296             19                    0     100  \n",
       "..    ...            ...                  ...     ...  \n",
       "235  5429             15                    0     200  \n",
       "236  5797             18                    0     200  \n",
       "237  6294             19                    0     200  \n",
       "238  6783             21                    0     200  \n",
       "239  6783             21                    0     200  \n",
       "\n",
       "[240 rows x 11 columns]"
      ]
     },
     "execution_count": 21,
     "metadata": {},
     "output_type": "execute_result"
    }
   ],
   "source": [
    "frames = participant_frames(timeline, players_info)\n",
    "frames"
   ]
  },
  {
   "cell_type": "code",
   "execution_count": 22,
   "metadata": {},
   "outputs": [
    {
     "data": {
      "text/plain": [
       "23"
      ]
     },
     "execution_count": 22,
     "metadata": {},
     "output_type": "execute_result"
    }
   ],
   "source": [
    "frames['timestamp'].max()"
   ]
  },
  {
   "cell_type": "code",
   "execution_count": 23,
   "metadata": {
    "scrolled": true
   },
   "outputs": [
    {
     "data": {
      "text/html": [
       "<div>\n",
       "<style scoped>\n",
       "    .dataframe tbody tr th:only-of-type {\n",
       "        vertical-align: middle;\n",
       "    }\n",
       "\n",
       "    .dataframe tbody tr th {\n",
       "        vertical-align: top;\n",
       "    }\n",
       "\n",
       "    .dataframe thead th {\n",
       "        text-align: right;\n",
       "    }\n",
       "</style>\n",
       "<table border=\"1\" class=\"dataframe\">\n",
       "  <thead>\n",
       "    <tr style=\"text-align: right;\">\n",
       "      <th></th>\n",
       "      <th>type</th>\n",
       "      <th>timestamp</th>\n",
       "      <th>participantId</th>\n",
       "      <th>itemId</th>\n",
       "      <th>skillSlot</th>\n",
       "      <th>levelUpType</th>\n",
       "      <th>wardType</th>\n",
       "      <th>creatorId</th>\n",
       "      <th>killerId</th>\n",
       "      <th>victimId</th>\n",
       "      <th>...</th>\n",
       "      <th>monsterType</th>\n",
       "      <th>monsterSubType</th>\n",
       "      <th>teamId</th>\n",
       "      <th>buildingType</th>\n",
       "      <th>laneType</th>\n",
       "      <th>towerType</th>\n",
       "      <th>afterId</th>\n",
       "      <th>beforeId</th>\n",
       "      <th>position_x</th>\n",
       "      <th>position_y</th>\n",
       "    </tr>\n",
       "  </thead>\n",
       "  <tbody>\n",
       "    <tr>\n",
       "      <th>0</th>\n",
       "      <td>ITEM_PURCHASED</td>\n",
       "      <td>4080</td>\n",
       "      <td>6.0</td>\n",
       "      <td>2003.0</td>\n",
       "      <td>NaN</td>\n",
       "      <td>NaN</td>\n",
       "      <td>NaN</td>\n",
       "      <td>NaN</td>\n",
       "      <td>NaN</td>\n",
       "      <td>NaN</td>\n",
       "      <td>...</td>\n",
       "      <td>NaN</td>\n",
       "      <td>NaN</td>\n",
       "      <td>NaN</td>\n",
       "      <td>NaN</td>\n",
       "      <td>NaN</td>\n",
       "      <td>NaN</td>\n",
       "      <td>NaN</td>\n",
       "      <td>NaN</td>\n",
       "      <td>none</td>\n",
       "      <td>none</td>\n",
       "    </tr>\n",
       "    <tr>\n",
       "      <th>1</th>\n",
       "      <td>ITEM_PURCHASED</td>\n",
       "      <td>4212</td>\n",
       "      <td>6.0</td>\n",
       "      <td>2003.0</td>\n",
       "      <td>NaN</td>\n",
       "      <td>NaN</td>\n",
       "      <td>NaN</td>\n",
       "      <td>NaN</td>\n",
       "      <td>NaN</td>\n",
       "      <td>NaN</td>\n",
       "      <td>...</td>\n",
       "      <td>NaN</td>\n",
       "      <td>NaN</td>\n",
       "      <td>NaN</td>\n",
       "      <td>NaN</td>\n",
       "      <td>NaN</td>\n",
       "      <td>NaN</td>\n",
       "      <td>NaN</td>\n",
       "      <td>NaN</td>\n",
       "      <td>none</td>\n",
       "      <td>none</td>\n",
       "    </tr>\n",
       "    <tr>\n",
       "      <th>2</th>\n",
       "      <td>ITEM_PURCHASED</td>\n",
       "      <td>4245</td>\n",
       "      <td>2.0</td>\n",
       "      <td>1036.0</td>\n",
       "      <td>NaN</td>\n",
       "      <td>NaN</td>\n",
       "      <td>NaN</td>\n",
       "      <td>NaN</td>\n",
       "      <td>NaN</td>\n",
       "      <td>NaN</td>\n",
       "      <td>...</td>\n",
       "      <td>NaN</td>\n",
       "      <td>NaN</td>\n",
       "      <td>NaN</td>\n",
       "      <td>NaN</td>\n",
       "      <td>NaN</td>\n",
       "      <td>NaN</td>\n",
       "      <td>NaN</td>\n",
       "      <td>NaN</td>\n",
       "      <td>none</td>\n",
       "      <td>none</td>\n",
       "    </tr>\n",
       "    <tr>\n",
       "      <th>3</th>\n",
       "      <td>ITEM_PURCHASED</td>\n",
       "      <td>4443</td>\n",
       "      <td>6.0</td>\n",
       "      <td>1056.0</td>\n",
       "      <td>NaN</td>\n",
       "      <td>NaN</td>\n",
       "      <td>NaN</td>\n",
       "      <td>NaN</td>\n",
       "      <td>NaN</td>\n",
       "      <td>NaN</td>\n",
       "      <td>...</td>\n",
       "      <td>NaN</td>\n",
       "      <td>NaN</td>\n",
       "      <td>NaN</td>\n",
       "      <td>NaN</td>\n",
       "      <td>NaN</td>\n",
       "      <td>NaN</td>\n",
       "      <td>NaN</td>\n",
       "      <td>NaN</td>\n",
       "      <td>none</td>\n",
       "      <td>none</td>\n",
       "    </tr>\n",
       "    <tr>\n",
       "      <th>4</th>\n",
       "      <td>ITEM_PURCHASED</td>\n",
       "      <td>4542</td>\n",
       "      <td>7.0</td>\n",
       "      <td>1054.0</td>\n",
       "      <td>NaN</td>\n",
       "      <td>NaN</td>\n",
       "      <td>NaN</td>\n",
       "      <td>NaN</td>\n",
       "      <td>NaN</td>\n",
       "      <td>NaN</td>\n",
       "      <td>...</td>\n",
       "      <td>NaN</td>\n",
       "      <td>NaN</td>\n",
       "      <td>NaN</td>\n",
       "      <td>NaN</td>\n",
       "      <td>NaN</td>\n",
       "      <td>NaN</td>\n",
       "      <td>NaN</td>\n",
       "      <td>NaN</td>\n",
       "      <td>none</td>\n",
       "      <td>none</td>\n",
       "    </tr>\n",
       "    <tr>\n",
       "      <th>...</th>\n",
       "      <td>...</td>\n",
       "      <td>...</td>\n",
       "      <td>...</td>\n",
       "      <td>...</td>\n",
       "      <td>...</td>\n",
       "      <td>...</td>\n",
       "      <td>...</td>\n",
       "      <td>...</td>\n",
       "      <td>...</td>\n",
       "      <td>...</td>\n",
       "      <td>...</td>\n",
       "      <td>...</td>\n",
       "      <td>...</td>\n",
       "      <td>...</td>\n",
       "      <td>...</td>\n",
       "      <td>...</td>\n",
       "      <td>...</td>\n",
       "      <td>...</td>\n",
       "      <td>...</td>\n",
       "      <td>...</td>\n",
       "      <td>...</td>\n",
       "    </tr>\n",
       "    <tr>\n",
       "      <th>19</th>\n",
       "      <td>BUILDING_KILL</td>\n",
       "      <td>1372996</td>\n",
       "      <td>NaN</td>\n",
       "      <td>NaN</td>\n",
       "      <td>NaN</td>\n",
       "      <td>NaN</td>\n",
       "      <td>NaN</td>\n",
       "      <td>NaN</td>\n",
       "      <td>1.0</td>\n",
       "      <td>NaN</td>\n",
       "      <td>...</td>\n",
       "      <td>NaN</td>\n",
       "      <td>NaN</td>\n",
       "      <td>200.0</td>\n",
       "      <td>TOWER_BUILDING</td>\n",
       "      <td>MID_LANE</td>\n",
       "      <td>NEXUS_TURRET</td>\n",
       "      <td>NaN</td>\n",
       "      <td>NaN</td>\n",
       "      <td>12611</td>\n",
       "      <td>13084</td>\n",
       "    </tr>\n",
       "    <tr>\n",
       "      <th>20</th>\n",
       "      <td>WARD_PLACED</td>\n",
       "      <td>1374680</td>\n",
       "      <td>NaN</td>\n",
       "      <td>NaN</td>\n",
       "      <td>NaN</td>\n",
       "      <td>NaN</td>\n",
       "      <td>CONTROL_WARD</td>\n",
       "      <td>2.0</td>\n",
       "      <td>NaN</td>\n",
       "      <td>NaN</td>\n",
       "      <td>...</td>\n",
       "      <td>NaN</td>\n",
       "      <td>NaN</td>\n",
       "      <td>NaN</td>\n",
       "      <td>NaN</td>\n",
       "      <td>NaN</td>\n",
       "      <td>NaN</td>\n",
       "      <td>NaN</td>\n",
       "      <td>NaN</td>\n",
       "      <td>none</td>\n",
       "      <td>none</td>\n",
       "    </tr>\n",
       "    <tr>\n",
       "      <th>21</th>\n",
       "      <td>ITEM_DESTROYED</td>\n",
       "      <td>1374680</td>\n",
       "      <td>2.0</td>\n",
       "      <td>2055.0</td>\n",
       "      <td>NaN</td>\n",
       "      <td>NaN</td>\n",
       "      <td>NaN</td>\n",
       "      <td>NaN</td>\n",
       "      <td>NaN</td>\n",
       "      <td>NaN</td>\n",
       "      <td>...</td>\n",
       "      <td>NaN</td>\n",
       "      <td>NaN</td>\n",
       "      <td>NaN</td>\n",
       "      <td>NaN</td>\n",
       "      <td>NaN</td>\n",
       "      <td>NaN</td>\n",
       "      <td>NaN</td>\n",
       "      <td>NaN</td>\n",
       "      <td>none</td>\n",
       "      <td>none</td>\n",
       "    </tr>\n",
       "    <tr>\n",
       "      <th>22</th>\n",
       "      <td>WARD_PLACED</td>\n",
       "      <td>1375308</td>\n",
       "      <td>NaN</td>\n",
       "      <td>NaN</td>\n",
       "      <td>NaN</td>\n",
       "      <td>NaN</td>\n",
       "      <td>YELLOW_TRINKET</td>\n",
       "      <td>2.0</td>\n",
       "      <td>NaN</td>\n",
       "      <td>NaN</td>\n",
       "      <td>...</td>\n",
       "      <td>NaN</td>\n",
       "      <td>NaN</td>\n",
       "      <td>NaN</td>\n",
       "      <td>NaN</td>\n",
       "      <td>NaN</td>\n",
       "      <td>NaN</td>\n",
       "      <td>NaN</td>\n",
       "      <td>NaN</td>\n",
       "      <td>none</td>\n",
       "      <td>none</td>\n",
       "    </tr>\n",
       "    <tr>\n",
       "      <th>23</th>\n",
       "      <td>WARD_PLACED</td>\n",
       "      <td>1377125</td>\n",
       "      <td>NaN</td>\n",
       "      <td>NaN</td>\n",
       "      <td>NaN</td>\n",
       "      <td>NaN</td>\n",
       "      <td>UNDEFINED</td>\n",
       "      <td>3.0</td>\n",
       "      <td>NaN</td>\n",
       "      <td>NaN</td>\n",
       "      <td>...</td>\n",
       "      <td>NaN</td>\n",
       "      <td>NaN</td>\n",
       "      <td>NaN</td>\n",
       "      <td>NaN</td>\n",
       "      <td>NaN</td>\n",
       "      <td>NaN</td>\n",
       "      <td>NaN</td>\n",
       "      <td>NaN</td>\n",
       "      <td>none</td>\n",
       "      <td>none</td>\n",
       "    </tr>\n",
       "  </tbody>\n",
       "</table>\n",
       "<p>702 rows × 21 columns</p>\n",
       "</div>"
      ],
      "text/plain": [
       "              type  timestamp  participantId  itemId  skillSlot levelUpType  \\\n",
       "0   ITEM_PURCHASED       4080            6.0  2003.0        NaN         NaN   \n",
       "1   ITEM_PURCHASED       4212            6.0  2003.0        NaN         NaN   \n",
       "2   ITEM_PURCHASED       4245            2.0  1036.0        NaN         NaN   \n",
       "3   ITEM_PURCHASED       4443            6.0  1056.0        NaN         NaN   \n",
       "4   ITEM_PURCHASED       4542            7.0  1054.0        NaN         NaN   \n",
       "..             ...        ...            ...     ...        ...         ...   \n",
       "19   BUILDING_KILL    1372996            NaN     NaN        NaN         NaN   \n",
       "20     WARD_PLACED    1374680            NaN     NaN        NaN         NaN   \n",
       "21  ITEM_DESTROYED    1374680            2.0  2055.0        NaN         NaN   \n",
       "22     WARD_PLACED    1375308            NaN     NaN        NaN         NaN   \n",
       "23     WARD_PLACED    1377125            NaN     NaN        NaN         NaN   \n",
       "\n",
       "          wardType  creatorId  killerId  victimId  ... monsterType  \\\n",
       "0              NaN        NaN       NaN       NaN  ...         NaN   \n",
       "1              NaN        NaN       NaN       NaN  ...         NaN   \n",
       "2              NaN        NaN       NaN       NaN  ...         NaN   \n",
       "3              NaN        NaN       NaN       NaN  ...         NaN   \n",
       "4              NaN        NaN       NaN       NaN  ...         NaN   \n",
       "..             ...        ...       ...       ...  ...         ...   \n",
       "19             NaN        NaN       1.0       NaN  ...         NaN   \n",
       "20    CONTROL_WARD        2.0       NaN       NaN  ...         NaN   \n",
       "21             NaN        NaN       NaN       NaN  ...         NaN   \n",
       "22  YELLOW_TRINKET        2.0       NaN       NaN  ...         NaN   \n",
       "23       UNDEFINED        3.0       NaN       NaN  ...         NaN   \n",
       "\n",
       "   monsterSubType teamId    buildingType  laneType     towerType afterId  \\\n",
       "0             NaN    NaN             NaN       NaN           NaN     NaN   \n",
       "1             NaN    NaN             NaN       NaN           NaN     NaN   \n",
       "2             NaN    NaN             NaN       NaN           NaN     NaN   \n",
       "3             NaN    NaN             NaN       NaN           NaN     NaN   \n",
       "4             NaN    NaN             NaN       NaN           NaN     NaN   \n",
       "..            ...    ...             ...       ...           ...     ...   \n",
       "19            NaN  200.0  TOWER_BUILDING  MID_LANE  NEXUS_TURRET     NaN   \n",
       "20            NaN    NaN             NaN       NaN           NaN     NaN   \n",
       "21            NaN    NaN             NaN       NaN           NaN     NaN   \n",
       "22            NaN    NaN             NaN       NaN           NaN     NaN   \n",
       "23            NaN    NaN             NaN       NaN           NaN     NaN   \n",
       "\n",
       "    beforeId  position_x position_y  \n",
       "0        NaN        none       none  \n",
       "1        NaN        none       none  \n",
       "2        NaN        none       none  \n",
       "3        NaN        none       none  \n",
       "4        NaN        none       none  \n",
       "..       ...         ...        ...  \n",
       "19       NaN       12611      13084  \n",
       "20       NaN        none       none  \n",
       "21       NaN        none       none  \n",
       "22       NaN        none       none  \n",
       "23       NaN        none       none  \n",
       "\n",
       "[702 rows x 21 columns]"
      ]
     },
     "execution_count": 23,
     "metadata": {},
     "output_type": "execute_result"
    }
   ],
   "source": [
    "events = get_events(timeline)\n",
    "events"
   ]
  },
  {
   "cell_type": "code",
   "execution_count": 24,
   "metadata": {},
   "outputs": [],
   "source": [
    "def gold_diff(frames):\n",
    "    data = frames.groupby(['timestamp', 'teamId']).sum().reset_index()[['timestamp', 'teamId', 'totalGold']]\n",
    "    \n",
    "    team100gold = data[data['teamId'] == 100]\n",
    "    team100gold.rename(columns={\"totalGold\": \"team100gold\"}, inplace=True)\n",
    "    team200gold = data[data['teamId'] == 200][['timestamp', 'teamId', 'totalGold']]\n",
    "    team200gold.rename(columns={\"totalGold\": \"team200gold\"}, inplace=True)\n",
    "    \n",
    "    golddiff = pd.merge(team100gold, team200gold, on='timestamp')\n",
    "    golddiff['golddiff'] = golddiff['team100gold'] - golddiff['team200gold']\n",
    "    golddiff['team100golddiff'] = [a if a > 0 else 0 for a in golddiff['golddiff']]\n",
    "    golddiff['team200golddiff'] = [a if a < 0 else 0 for a in golddiff['golddiff']]\n",
    "    \n",
    "    return golddiff"
   ]
  },
  {
   "cell_type": "code",
   "execution_count": 25,
   "metadata": {
    "scrolled": false
   },
   "outputs": [
    {
     "name": "stderr",
     "output_type": "stream",
     "text": [
      "/home/david/miniconda3/envs/ironhack/lib/python3.7/site-packages/pandas/core/frame.py:4301: SettingWithCopyWarning: \n",
      "A value is trying to be set on a copy of a slice from a DataFrame\n",
      "\n",
      "See the caveats in the documentation: https://pandas.pydata.org/pandas-docs/stable/user_guide/indexing.html#returning-a-view-versus-a-copy\n",
      "  errors=errors,\n"
     ]
    }
   ],
   "source": [
    "golddiff = gold_diff(frames)"
   ]
  },
  {
   "cell_type": "code",
   "execution_count": null,
   "metadata": {},
   "outputs": [],
   "source": []
  },
  {
   "cell_type": "code",
   "execution_count": 26,
   "metadata": {
    "scrolled": true
   },
   "outputs": [
    {
     "data": {
      "text/html": [
       "<div>\n",
       "<style scoped>\n",
       "    .dataframe tbody tr th:only-of-type {\n",
       "        vertical-align: middle;\n",
       "    }\n",
       "\n",
       "    .dataframe tbody tr th {\n",
       "        vertical-align: top;\n",
       "    }\n",
       "\n",
       "    .dataframe thead th {\n",
       "        text-align: right;\n",
       "    }\n",
       "</style>\n",
       "<table border=\"1\" class=\"dataframe\">\n",
       "  <thead>\n",
       "    <tr style=\"text-align: right;\">\n",
       "      <th></th>\n",
       "      <th>timestamp</th>\n",
       "      <th>teamId_x</th>\n",
       "      <th>team100gold</th>\n",
       "      <th>teamId_y</th>\n",
       "      <th>team200gold</th>\n",
       "      <th>golddiff</th>\n",
       "      <th>team100golddiff</th>\n",
       "      <th>team200golddiff</th>\n",
       "    </tr>\n",
       "  </thead>\n",
       "  <tbody>\n",
       "    <tr>\n",
       "      <th>0</th>\n",
       "      <td>0</td>\n",
       "      <td>100</td>\n",
       "      <td>2500</td>\n",
       "      <td>200</td>\n",
       "      <td>2500</td>\n",
       "      <td>0</td>\n",
       "      <td>0</td>\n",
       "      <td>0</td>\n",
       "    </tr>\n",
       "    <tr>\n",
       "      <th>1</th>\n",
       "      <td>1</td>\n",
       "      <td>100</td>\n",
       "      <td>2500</td>\n",
       "      <td>200</td>\n",
       "      <td>2500</td>\n",
       "      <td>0</td>\n",
       "      <td>0</td>\n",
       "      <td>0</td>\n",
       "    </tr>\n",
       "    <tr>\n",
       "      <th>2</th>\n",
       "      <td>2</td>\n",
       "      <td>100</td>\n",
       "      <td>3011</td>\n",
       "      <td>200</td>\n",
       "      <td>2822</td>\n",
       "      <td>189</td>\n",
       "      <td>189</td>\n",
       "      <td>0</td>\n",
       "    </tr>\n",
       "    <tr>\n",
       "      <th>3</th>\n",
       "      <td>3</td>\n",
       "      <td>100</td>\n",
       "      <td>4800</td>\n",
       "      <td>200</td>\n",
       "      <td>4464</td>\n",
       "      <td>336</td>\n",
       "      <td>336</td>\n",
       "      <td>0</td>\n",
       "    </tr>\n",
       "    <tr>\n",
       "      <th>4</th>\n",
       "      <td>4</td>\n",
       "      <td>100</td>\n",
       "      <td>6962</td>\n",
       "      <td>200</td>\n",
       "      <td>5801</td>\n",
       "      <td>1161</td>\n",
       "      <td>1161</td>\n",
       "      <td>0</td>\n",
       "    </tr>\n",
       "    <tr>\n",
       "      <th>5</th>\n",
       "      <td>5</td>\n",
       "      <td>100</td>\n",
       "      <td>9062</td>\n",
       "      <td>200</td>\n",
       "      <td>7188</td>\n",
       "      <td>1874</td>\n",
       "      <td>1874</td>\n",
       "      <td>0</td>\n",
       "    </tr>\n",
       "    <tr>\n",
       "      <th>6</th>\n",
       "      <td>6</td>\n",
       "      <td>100</td>\n",
       "      <td>10942</td>\n",
       "      <td>200</td>\n",
       "      <td>8207</td>\n",
       "      <td>2735</td>\n",
       "      <td>2735</td>\n",
       "      <td>0</td>\n",
       "    </tr>\n",
       "    <tr>\n",
       "      <th>7</th>\n",
       "      <td>7</td>\n",
       "      <td>100</td>\n",
       "      <td>12801</td>\n",
       "      <td>200</td>\n",
       "      <td>9323</td>\n",
       "      <td>3478</td>\n",
       "      <td>3478</td>\n",
       "      <td>0</td>\n",
       "    </tr>\n",
       "    <tr>\n",
       "      <th>8</th>\n",
       "      <td>8</td>\n",
       "      <td>100</td>\n",
       "      <td>14791</td>\n",
       "      <td>200</td>\n",
       "      <td>10424</td>\n",
       "      <td>4367</td>\n",
       "      <td>4367</td>\n",
       "      <td>0</td>\n",
       "    </tr>\n",
       "    <tr>\n",
       "      <th>9</th>\n",
       "      <td>9</td>\n",
       "      <td>100</td>\n",
       "      <td>16068</td>\n",
       "      <td>200</td>\n",
       "      <td>12025</td>\n",
       "      <td>4043</td>\n",
       "      <td>4043</td>\n",
       "      <td>0</td>\n",
       "    </tr>\n",
       "    <tr>\n",
       "      <th>10</th>\n",
       "      <td>10</td>\n",
       "      <td>100</td>\n",
       "      <td>17611</td>\n",
       "      <td>200</td>\n",
       "      <td>13288</td>\n",
       "      <td>4323</td>\n",
       "      <td>4323</td>\n",
       "      <td>0</td>\n",
       "    </tr>\n",
       "    <tr>\n",
       "      <th>11</th>\n",
       "      <td>11</td>\n",
       "      <td>100</td>\n",
       "      <td>19956</td>\n",
       "      <td>200</td>\n",
       "      <td>14503</td>\n",
       "      <td>5453</td>\n",
       "      <td>5453</td>\n",
       "      <td>0</td>\n",
       "    </tr>\n",
       "    <tr>\n",
       "      <th>12</th>\n",
       "      <td>12</td>\n",
       "      <td>100</td>\n",
       "      <td>21688</td>\n",
       "      <td>200</td>\n",
       "      <td>18143</td>\n",
       "      <td>3545</td>\n",
       "      <td>3545</td>\n",
       "      <td>0</td>\n",
       "    </tr>\n",
       "    <tr>\n",
       "      <th>13</th>\n",
       "      <td>13</td>\n",
       "      <td>100</td>\n",
       "      <td>23320</td>\n",
       "      <td>200</td>\n",
       "      <td>19366</td>\n",
       "      <td>3954</td>\n",
       "      <td>3954</td>\n",
       "      <td>0</td>\n",
       "    </tr>\n",
       "    <tr>\n",
       "      <th>14</th>\n",
       "      <td>14</td>\n",
       "      <td>100</td>\n",
       "      <td>27544</td>\n",
       "      <td>200</td>\n",
       "      <td>21337</td>\n",
       "      <td>6207</td>\n",
       "      <td>6207</td>\n",
       "      <td>0</td>\n",
       "    </tr>\n",
       "    <tr>\n",
       "      <th>15</th>\n",
       "      <td>15</td>\n",
       "      <td>100</td>\n",
       "      <td>29661</td>\n",
       "      <td>200</td>\n",
       "      <td>22422</td>\n",
       "      <td>7239</td>\n",
       "      <td>7239</td>\n",
       "      <td>0</td>\n",
       "    </tr>\n",
       "    <tr>\n",
       "      <th>16</th>\n",
       "      <td>16</td>\n",
       "      <td>100</td>\n",
       "      <td>31144</td>\n",
       "      <td>200</td>\n",
       "      <td>23567</td>\n",
       "      <td>7577</td>\n",
       "      <td>7577</td>\n",
       "      <td>0</td>\n",
       "    </tr>\n",
       "    <tr>\n",
       "      <th>17</th>\n",
       "      <td>17</td>\n",
       "      <td>100</td>\n",
       "      <td>32788</td>\n",
       "      <td>200</td>\n",
       "      <td>25518</td>\n",
       "      <td>7270</td>\n",
       "      <td>7270</td>\n",
       "      <td>0</td>\n",
       "    </tr>\n",
       "    <tr>\n",
       "      <th>18</th>\n",
       "      <td>18</td>\n",
       "      <td>100</td>\n",
       "      <td>35425</td>\n",
       "      <td>200</td>\n",
       "      <td>26641</td>\n",
       "      <td>8784</td>\n",
       "      <td>8784</td>\n",
       "      <td>0</td>\n",
       "    </tr>\n",
       "    <tr>\n",
       "      <th>19</th>\n",
       "      <td>19</td>\n",
       "      <td>100</td>\n",
       "      <td>38016</td>\n",
       "      <td>200</td>\n",
       "      <td>27323</td>\n",
       "      <td>10693</td>\n",
       "      <td>10693</td>\n",
       "      <td>0</td>\n",
       "    </tr>\n",
       "    <tr>\n",
       "      <th>20</th>\n",
       "      <td>20</td>\n",
       "      <td>100</td>\n",
       "      <td>41049</td>\n",
       "      <td>200</td>\n",
       "      <td>28239</td>\n",
       "      <td>12810</td>\n",
       "      <td>12810</td>\n",
       "      <td>0</td>\n",
       "    </tr>\n",
       "    <tr>\n",
       "      <th>21</th>\n",
       "      <td>21</td>\n",
       "      <td>100</td>\n",
       "      <td>44956</td>\n",
       "      <td>200</td>\n",
       "      <td>32271</td>\n",
       "      <td>12685</td>\n",
       "      <td>12685</td>\n",
       "      <td>0</td>\n",
       "    </tr>\n",
       "    <tr>\n",
       "      <th>22</th>\n",
       "      <td>22</td>\n",
       "      <td>100</td>\n",
       "      <td>46302</td>\n",
       "      <td>200</td>\n",
       "      <td>34141</td>\n",
       "      <td>12161</td>\n",
       "      <td>12161</td>\n",
       "      <td>0</td>\n",
       "    </tr>\n",
       "    <tr>\n",
       "      <th>23</th>\n",
       "      <td>23</td>\n",
       "      <td>100</td>\n",
       "      <td>49880</td>\n",
       "      <td>200</td>\n",
       "      <td>35086</td>\n",
       "      <td>14794</td>\n",
       "      <td>14794</td>\n",
       "      <td>0</td>\n",
       "    </tr>\n",
       "  </tbody>\n",
       "</table>\n",
       "</div>"
      ],
      "text/plain": [
       "    timestamp  teamId_x  team100gold  teamId_y  team200gold  golddiff  \\\n",
       "0           0       100         2500       200         2500         0   \n",
       "1           1       100         2500       200         2500         0   \n",
       "2           2       100         3011       200         2822       189   \n",
       "3           3       100         4800       200         4464       336   \n",
       "4           4       100         6962       200         5801      1161   \n",
       "5           5       100         9062       200         7188      1874   \n",
       "6           6       100        10942       200         8207      2735   \n",
       "7           7       100        12801       200         9323      3478   \n",
       "8           8       100        14791       200        10424      4367   \n",
       "9           9       100        16068       200        12025      4043   \n",
       "10         10       100        17611       200        13288      4323   \n",
       "11         11       100        19956       200        14503      5453   \n",
       "12         12       100        21688       200        18143      3545   \n",
       "13         13       100        23320       200        19366      3954   \n",
       "14         14       100        27544       200        21337      6207   \n",
       "15         15       100        29661       200        22422      7239   \n",
       "16         16       100        31144       200        23567      7577   \n",
       "17         17       100        32788       200        25518      7270   \n",
       "18         18       100        35425       200        26641      8784   \n",
       "19         19       100        38016       200        27323     10693   \n",
       "20         20       100        41049       200        28239     12810   \n",
       "21         21       100        44956       200        32271     12685   \n",
       "22         22       100        46302       200        34141     12161   \n",
       "23         23       100        49880       200        35086     14794   \n",
       "\n",
       "    team100golddiff  team200golddiff  \n",
       "0                 0                0  \n",
       "1                 0                0  \n",
       "2               189                0  \n",
       "3               336                0  \n",
       "4              1161                0  \n",
       "5              1874                0  \n",
       "6              2735                0  \n",
       "7              3478                0  \n",
       "8              4367                0  \n",
       "9              4043                0  \n",
       "10             4323                0  \n",
       "11             5453                0  \n",
       "12             3545                0  \n",
       "13             3954                0  \n",
       "14             6207                0  \n",
       "15             7239                0  \n",
       "16             7577                0  \n",
       "17             7270                0  \n",
       "18             8784                0  \n",
       "19            10693                0  \n",
       "20            12810                0  \n",
       "21            12685                0  \n",
       "22            12161                0  \n",
       "23            14794                0  "
      ]
     },
     "execution_count": 26,
     "metadata": {},
     "output_type": "execute_result"
    }
   ],
   "source": [
    "golddiff"
   ]
  },
  {
   "cell_type": "code",
   "execution_count": 31,
   "metadata": {},
   "outputs": [
    {
     "data": {
      "application/vnd.plotly.v1+json": {
       "config": {
        "plotlyServerURL": "https://plot.ly"
       },
       "data": [
        {
         "fill": "tozeroy",
         "line": {
          "color": "#2E86C1"
         },
         "name": "Blue team",
         "type": "scatter",
         "x": [
          0,
          1,
          2,
          3,
          4,
          5,
          6,
          7,
          8,
          9,
          10,
          11,
          12,
          13,
          14,
          15,
          16,
          17,
          18,
          19,
          20,
          21,
          22,
          23
         ],
         "y": [
          0,
          0,
          189,
          336,
          1161,
          1874,
          2735,
          3478,
          4367,
          4043,
          4323,
          5453,
          3545,
          3954,
          6207,
          7239,
          7577,
          7270,
          8784,
          10693,
          12810,
          12685,
          12161,
          14794
         ]
        },
        {
         "fill": "tozeroy",
         "line": {
          "color": "#E74C3C"
         },
         "name": "Red team",
         "type": "scatter",
         "x": [
          0,
          1,
          2,
          3,
          4,
          5,
          6,
          7,
          8,
          9,
          10,
          11,
          12,
          13,
          14,
          15,
          16,
          17,
          18,
          19,
          20,
          21,
          22,
          23
         ],
         "y": [
          0,
          0,
          0,
          0,
          0,
          0,
          0,
          0,
          0,
          0,
          0,
          0,
          0,
          0,
          0,
          0,
          0,
          0,
          0,
          0,
          0,
          0,
          0,
          0
         ]
        }
       ],
       "layout": {
        "template": {
         "data": {
          "bar": [
           {
            "error_x": {
             "color": "#2a3f5f"
            },
            "error_y": {
             "color": "#2a3f5f"
            },
            "marker": {
             "line": {
              "color": "#E5ECF6",
              "width": 0.5
             }
            },
            "type": "bar"
           }
          ],
          "barpolar": [
           {
            "marker": {
             "line": {
              "color": "#E5ECF6",
              "width": 0.5
             }
            },
            "type": "barpolar"
           }
          ],
          "carpet": [
           {
            "aaxis": {
             "endlinecolor": "#2a3f5f",
             "gridcolor": "white",
             "linecolor": "white",
             "minorgridcolor": "white",
             "startlinecolor": "#2a3f5f"
            },
            "baxis": {
             "endlinecolor": "#2a3f5f",
             "gridcolor": "white",
             "linecolor": "white",
             "minorgridcolor": "white",
             "startlinecolor": "#2a3f5f"
            },
            "type": "carpet"
           }
          ],
          "choropleth": [
           {
            "colorbar": {
             "outlinewidth": 0,
             "ticks": ""
            },
            "type": "choropleth"
           }
          ],
          "contour": [
           {
            "colorbar": {
             "outlinewidth": 0,
             "ticks": ""
            },
            "colorscale": [
             [
              0,
              "#0d0887"
             ],
             [
              0.1111111111111111,
              "#46039f"
             ],
             [
              0.2222222222222222,
              "#7201a8"
             ],
             [
              0.3333333333333333,
              "#9c179e"
             ],
             [
              0.4444444444444444,
              "#bd3786"
             ],
             [
              0.5555555555555556,
              "#d8576b"
             ],
             [
              0.6666666666666666,
              "#ed7953"
             ],
             [
              0.7777777777777778,
              "#fb9f3a"
             ],
             [
              0.8888888888888888,
              "#fdca26"
             ],
             [
              1,
              "#f0f921"
             ]
            ],
            "type": "contour"
           }
          ],
          "contourcarpet": [
           {
            "colorbar": {
             "outlinewidth": 0,
             "ticks": ""
            },
            "type": "contourcarpet"
           }
          ],
          "heatmap": [
           {
            "colorbar": {
             "outlinewidth": 0,
             "ticks": ""
            },
            "colorscale": [
             [
              0,
              "#0d0887"
             ],
             [
              0.1111111111111111,
              "#46039f"
             ],
             [
              0.2222222222222222,
              "#7201a8"
             ],
             [
              0.3333333333333333,
              "#9c179e"
             ],
             [
              0.4444444444444444,
              "#bd3786"
             ],
             [
              0.5555555555555556,
              "#d8576b"
             ],
             [
              0.6666666666666666,
              "#ed7953"
             ],
             [
              0.7777777777777778,
              "#fb9f3a"
             ],
             [
              0.8888888888888888,
              "#fdca26"
             ],
             [
              1,
              "#f0f921"
             ]
            ],
            "type": "heatmap"
           }
          ],
          "heatmapgl": [
           {
            "colorbar": {
             "outlinewidth": 0,
             "ticks": ""
            },
            "colorscale": [
             [
              0,
              "#0d0887"
             ],
             [
              0.1111111111111111,
              "#46039f"
             ],
             [
              0.2222222222222222,
              "#7201a8"
             ],
             [
              0.3333333333333333,
              "#9c179e"
             ],
             [
              0.4444444444444444,
              "#bd3786"
             ],
             [
              0.5555555555555556,
              "#d8576b"
             ],
             [
              0.6666666666666666,
              "#ed7953"
             ],
             [
              0.7777777777777778,
              "#fb9f3a"
             ],
             [
              0.8888888888888888,
              "#fdca26"
             ],
             [
              1,
              "#f0f921"
             ]
            ],
            "type": "heatmapgl"
           }
          ],
          "histogram": [
           {
            "marker": {
             "colorbar": {
              "outlinewidth": 0,
              "ticks": ""
             }
            },
            "type": "histogram"
           }
          ],
          "histogram2d": [
           {
            "colorbar": {
             "outlinewidth": 0,
             "ticks": ""
            },
            "colorscale": [
             [
              0,
              "#0d0887"
             ],
             [
              0.1111111111111111,
              "#46039f"
             ],
             [
              0.2222222222222222,
              "#7201a8"
             ],
             [
              0.3333333333333333,
              "#9c179e"
             ],
             [
              0.4444444444444444,
              "#bd3786"
             ],
             [
              0.5555555555555556,
              "#d8576b"
             ],
             [
              0.6666666666666666,
              "#ed7953"
             ],
             [
              0.7777777777777778,
              "#fb9f3a"
             ],
             [
              0.8888888888888888,
              "#fdca26"
             ],
             [
              1,
              "#f0f921"
             ]
            ],
            "type": "histogram2d"
           }
          ],
          "histogram2dcontour": [
           {
            "colorbar": {
             "outlinewidth": 0,
             "ticks": ""
            },
            "colorscale": [
             [
              0,
              "#0d0887"
             ],
             [
              0.1111111111111111,
              "#46039f"
             ],
             [
              0.2222222222222222,
              "#7201a8"
             ],
             [
              0.3333333333333333,
              "#9c179e"
             ],
             [
              0.4444444444444444,
              "#bd3786"
             ],
             [
              0.5555555555555556,
              "#d8576b"
             ],
             [
              0.6666666666666666,
              "#ed7953"
             ],
             [
              0.7777777777777778,
              "#fb9f3a"
             ],
             [
              0.8888888888888888,
              "#fdca26"
             ],
             [
              1,
              "#f0f921"
             ]
            ],
            "type": "histogram2dcontour"
           }
          ],
          "mesh3d": [
           {
            "colorbar": {
             "outlinewidth": 0,
             "ticks": ""
            },
            "type": "mesh3d"
           }
          ],
          "parcoords": [
           {
            "line": {
             "colorbar": {
              "outlinewidth": 0,
              "ticks": ""
             }
            },
            "type": "parcoords"
           }
          ],
          "pie": [
           {
            "automargin": true,
            "type": "pie"
           }
          ],
          "scatter": [
           {
            "marker": {
             "colorbar": {
              "outlinewidth": 0,
              "ticks": ""
             }
            },
            "type": "scatter"
           }
          ],
          "scatter3d": [
           {
            "line": {
             "colorbar": {
              "outlinewidth": 0,
              "ticks": ""
             }
            },
            "marker": {
             "colorbar": {
              "outlinewidth": 0,
              "ticks": ""
             }
            },
            "type": "scatter3d"
           }
          ],
          "scattercarpet": [
           {
            "marker": {
             "colorbar": {
              "outlinewidth": 0,
              "ticks": ""
             }
            },
            "type": "scattercarpet"
           }
          ],
          "scattergeo": [
           {
            "marker": {
             "colorbar": {
              "outlinewidth": 0,
              "ticks": ""
             }
            },
            "type": "scattergeo"
           }
          ],
          "scattergl": [
           {
            "marker": {
             "colorbar": {
              "outlinewidth": 0,
              "ticks": ""
             }
            },
            "type": "scattergl"
           }
          ],
          "scattermapbox": [
           {
            "marker": {
             "colorbar": {
              "outlinewidth": 0,
              "ticks": ""
             }
            },
            "type": "scattermapbox"
           }
          ],
          "scatterpolar": [
           {
            "marker": {
             "colorbar": {
              "outlinewidth": 0,
              "ticks": ""
             }
            },
            "type": "scatterpolar"
           }
          ],
          "scatterpolargl": [
           {
            "marker": {
             "colorbar": {
              "outlinewidth": 0,
              "ticks": ""
             }
            },
            "type": "scatterpolargl"
           }
          ],
          "scatterternary": [
           {
            "marker": {
             "colorbar": {
              "outlinewidth": 0,
              "ticks": ""
             }
            },
            "type": "scatterternary"
           }
          ],
          "surface": [
           {
            "colorbar": {
             "outlinewidth": 0,
             "ticks": ""
            },
            "colorscale": [
             [
              0,
              "#0d0887"
             ],
             [
              0.1111111111111111,
              "#46039f"
             ],
             [
              0.2222222222222222,
              "#7201a8"
             ],
             [
              0.3333333333333333,
              "#9c179e"
             ],
             [
              0.4444444444444444,
              "#bd3786"
             ],
             [
              0.5555555555555556,
              "#d8576b"
             ],
             [
              0.6666666666666666,
              "#ed7953"
             ],
             [
              0.7777777777777778,
              "#fb9f3a"
             ],
             [
              0.8888888888888888,
              "#fdca26"
             ],
             [
              1,
              "#f0f921"
             ]
            ],
            "type": "surface"
           }
          ],
          "table": [
           {
            "cells": {
             "fill": {
              "color": "#EBF0F8"
             },
             "line": {
              "color": "white"
             }
            },
            "header": {
             "fill": {
              "color": "#C8D4E3"
             },
             "line": {
              "color": "white"
             }
            },
            "type": "table"
           }
          ]
         },
         "layout": {
          "annotationdefaults": {
           "arrowcolor": "#2a3f5f",
           "arrowhead": 0,
           "arrowwidth": 1
          },
          "coloraxis": {
           "colorbar": {
            "outlinewidth": 0,
            "ticks": ""
           }
          },
          "colorscale": {
           "diverging": [
            [
             0,
             "#8e0152"
            ],
            [
             0.1,
             "#c51b7d"
            ],
            [
             0.2,
             "#de77ae"
            ],
            [
             0.3,
             "#f1b6da"
            ],
            [
             0.4,
             "#fde0ef"
            ],
            [
             0.5,
             "#f7f7f7"
            ],
            [
             0.6,
             "#e6f5d0"
            ],
            [
             0.7,
             "#b8e186"
            ],
            [
             0.8,
             "#7fbc41"
            ],
            [
             0.9,
             "#4d9221"
            ],
            [
             1,
             "#276419"
            ]
           ],
           "sequential": [
            [
             0,
             "#0d0887"
            ],
            [
             0.1111111111111111,
             "#46039f"
            ],
            [
             0.2222222222222222,
             "#7201a8"
            ],
            [
             0.3333333333333333,
             "#9c179e"
            ],
            [
             0.4444444444444444,
             "#bd3786"
            ],
            [
             0.5555555555555556,
             "#d8576b"
            ],
            [
             0.6666666666666666,
             "#ed7953"
            ],
            [
             0.7777777777777778,
             "#fb9f3a"
            ],
            [
             0.8888888888888888,
             "#fdca26"
            ],
            [
             1,
             "#f0f921"
            ]
           ],
           "sequentialminus": [
            [
             0,
             "#0d0887"
            ],
            [
             0.1111111111111111,
             "#46039f"
            ],
            [
             0.2222222222222222,
             "#7201a8"
            ],
            [
             0.3333333333333333,
             "#9c179e"
            ],
            [
             0.4444444444444444,
             "#bd3786"
            ],
            [
             0.5555555555555556,
             "#d8576b"
            ],
            [
             0.6666666666666666,
             "#ed7953"
            ],
            [
             0.7777777777777778,
             "#fb9f3a"
            ],
            [
             0.8888888888888888,
             "#fdca26"
            ],
            [
             1,
             "#f0f921"
            ]
           ]
          },
          "colorway": [
           "#636efa",
           "#EF553B",
           "#00cc96",
           "#ab63fa",
           "#FFA15A",
           "#19d3f3",
           "#FF6692",
           "#B6E880",
           "#FF97FF",
           "#FECB52"
          ],
          "font": {
           "color": "#2a3f5f"
          },
          "geo": {
           "bgcolor": "white",
           "lakecolor": "white",
           "landcolor": "#E5ECF6",
           "showlakes": true,
           "showland": true,
           "subunitcolor": "white"
          },
          "hoverlabel": {
           "align": "left"
          },
          "hovermode": "closest",
          "mapbox": {
           "style": "light"
          },
          "paper_bgcolor": "white",
          "plot_bgcolor": "#E5ECF6",
          "polar": {
           "angularaxis": {
            "gridcolor": "white",
            "linecolor": "white",
            "ticks": ""
           },
           "bgcolor": "#E5ECF6",
           "radialaxis": {
            "gridcolor": "white",
            "linecolor": "white",
            "ticks": ""
           }
          },
          "scene": {
           "xaxis": {
            "backgroundcolor": "#E5ECF6",
            "gridcolor": "white",
            "gridwidth": 2,
            "linecolor": "white",
            "showbackground": true,
            "ticks": "",
            "zerolinecolor": "white"
           },
           "yaxis": {
            "backgroundcolor": "#E5ECF6",
            "gridcolor": "white",
            "gridwidth": 2,
            "linecolor": "white",
            "showbackground": true,
            "ticks": "",
            "zerolinecolor": "white"
           },
           "zaxis": {
            "backgroundcolor": "#E5ECF6",
            "gridcolor": "white",
            "gridwidth": 2,
            "linecolor": "white",
            "showbackground": true,
            "ticks": "",
            "zerolinecolor": "white"
           }
          },
          "shapedefaults": {
           "line": {
            "color": "#2a3f5f"
           }
          },
          "ternary": {
           "aaxis": {
            "gridcolor": "white",
            "linecolor": "white",
            "ticks": ""
           },
           "baxis": {
            "gridcolor": "white",
            "linecolor": "white",
            "ticks": ""
           },
           "bgcolor": "#E5ECF6",
           "caxis": {
            "gridcolor": "white",
            "linecolor": "white",
            "ticks": ""
           }
          },
          "title": {
           "x": 0.05
          },
          "xaxis": {
           "automargin": true,
           "gridcolor": "white",
           "linecolor": "white",
           "ticks": "",
           "title": {
            "standoff": 15
           },
           "zerolinecolor": "white",
           "zerolinewidth": 2
          },
          "yaxis": {
           "automargin": true,
           "gridcolor": "white",
           "linecolor": "white",
           "ticks": "",
           "title": {
            "standoff": 15
           },
           "zerolinecolor": "white",
           "zerolinewidth": 2
          }
         }
        },
        "xaxis": {
         "showgrid": false
        },
        "yaxis": {
         "showgrid": false
        }
       }
      },
      "text/html": [
       "<div>                            <div id=\"0616775a-7700-4ff3-a93f-5846ddeb9685\" class=\"plotly-graph-div\" style=\"height:525px; width:100%;\"></div>            <script type=\"text/javascript\">                require([\"plotly\"], function(Plotly) {                    window.PLOTLYENV=window.PLOTLYENV || {};                                    if (document.getElementById(\"0616775a-7700-4ff3-a93f-5846ddeb9685\")) {                    Plotly.newPlot(                        \"0616775a-7700-4ff3-a93f-5846ddeb9685\",                        [{\"fill\": \"tozeroy\", \"line\": {\"color\": \"#2E86C1\"}, \"name\": \"Blue team\", \"type\": \"scatter\", \"x\": [0, 1, 2, 3, 4, 5, 6, 7, 8, 9, 10, 11, 12, 13, 14, 15, 16, 17, 18, 19, 20, 21, 22, 23], \"y\": [0, 0, 189, 336, 1161, 1874, 2735, 3478, 4367, 4043, 4323, 5453, 3545, 3954, 6207, 7239, 7577, 7270, 8784, 10693, 12810, 12685, 12161, 14794]}, {\"fill\": \"tozeroy\", \"line\": {\"color\": \"#E74C3C\"}, \"name\": \"Red team\", \"type\": \"scatter\", \"x\": [0, 1, 2, 3, 4, 5, 6, 7, 8, 9, 10, 11, 12, 13, 14, 15, 16, 17, 18, 19, 20, 21, 22, 23], \"y\": [0, 0, 0, 0, 0, 0, 0, 0, 0, 0, 0, 0, 0, 0, 0, 0, 0, 0, 0, 0, 0, 0, 0, 0]}],                        {\"template\": {\"data\": {\"bar\": [{\"error_x\": {\"color\": \"#2a3f5f\"}, \"error_y\": {\"color\": \"#2a3f5f\"}, \"marker\": {\"line\": {\"color\": \"#E5ECF6\", \"width\": 0.5}}, \"type\": \"bar\"}], \"barpolar\": [{\"marker\": {\"line\": {\"color\": \"#E5ECF6\", \"width\": 0.5}}, \"type\": \"barpolar\"}], \"carpet\": [{\"aaxis\": {\"endlinecolor\": \"#2a3f5f\", \"gridcolor\": \"white\", \"linecolor\": \"white\", \"minorgridcolor\": \"white\", \"startlinecolor\": \"#2a3f5f\"}, \"baxis\": {\"endlinecolor\": \"#2a3f5f\", \"gridcolor\": \"white\", \"linecolor\": \"white\", \"minorgridcolor\": \"white\", \"startlinecolor\": \"#2a3f5f\"}, \"type\": \"carpet\"}], \"choropleth\": [{\"colorbar\": {\"outlinewidth\": 0, \"ticks\": \"\"}, \"type\": \"choropleth\"}], \"contour\": [{\"colorbar\": {\"outlinewidth\": 0, \"ticks\": \"\"}, \"colorscale\": [[0.0, \"#0d0887\"], [0.1111111111111111, \"#46039f\"], [0.2222222222222222, \"#7201a8\"], [0.3333333333333333, \"#9c179e\"], [0.4444444444444444, \"#bd3786\"], [0.5555555555555556, \"#d8576b\"], [0.6666666666666666, \"#ed7953\"], [0.7777777777777778, \"#fb9f3a\"], [0.8888888888888888, \"#fdca26\"], [1.0, \"#f0f921\"]], \"type\": \"contour\"}], \"contourcarpet\": [{\"colorbar\": {\"outlinewidth\": 0, \"ticks\": \"\"}, \"type\": \"contourcarpet\"}], \"heatmap\": [{\"colorbar\": {\"outlinewidth\": 0, \"ticks\": \"\"}, \"colorscale\": [[0.0, \"#0d0887\"], [0.1111111111111111, \"#46039f\"], [0.2222222222222222, \"#7201a8\"], [0.3333333333333333, \"#9c179e\"], [0.4444444444444444, \"#bd3786\"], [0.5555555555555556, \"#d8576b\"], [0.6666666666666666, \"#ed7953\"], [0.7777777777777778, \"#fb9f3a\"], [0.8888888888888888, \"#fdca26\"], [1.0, \"#f0f921\"]], \"type\": \"heatmap\"}], \"heatmapgl\": [{\"colorbar\": {\"outlinewidth\": 0, \"ticks\": \"\"}, \"colorscale\": [[0.0, \"#0d0887\"], [0.1111111111111111, \"#46039f\"], [0.2222222222222222, \"#7201a8\"], [0.3333333333333333, \"#9c179e\"], [0.4444444444444444, \"#bd3786\"], [0.5555555555555556, \"#d8576b\"], [0.6666666666666666, \"#ed7953\"], [0.7777777777777778, \"#fb9f3a\"], [0.8888888888888888, \"#fdca26\"], [1.0, \"#f0f921\"]], \"type\": \"heatmapgl\"}], \"histogram\": [{\"marker\": {\"colorbar\": {\"outlinewidth\": 0, \"ticks\": \"\"}}, \"type\": \"histogram\"}], \"histogram2d\": [{\"colorbar\": {\"outlinewidth\": 0, \"ticks\": \"\"}, \"colorscale\": [[0.0, \"#0d0887\"], [0.1111111111111111, \"#46039f\"], [0.2222222222222222, \"#7201a8\"], [0.3333333333333333, \"#9c179e\"], [0.4444444444444444, \"#bd3786\"], [0.5555555555555556, \"#d8576b\"], [0.6666666666666666, \"#ed7953\"], [0.7777777777777778, \"#fb9f3a\"], [0.8888888888888888, \"#fdca26\"], [1.0, \"#f0f921\"]], \"type\": \"histogram2d\"}], \"histogram2dcontour\": [{\"colorbar\": {\"outlinewidth\": 0, \"ticks\": \"\"}, \"colorscale\": [[0.0, \"#0d0887\"], [0.1111111111111111, \"#46039f\"], [0.2222222222222222, \"#7201a8\"], [0.3333333333333333, \"#9c179e\"], [0.4444444444444444, \"#bd3786\"], [0.5555555555555556, \"#d8576b\"], [0.6666666666666666, \"#ed7953\"], [0.7777777777777778, \"#fb9f3a\"], [0.8888888888888888, \"#fdca26\"], [1.0, \"#f0f921\"]], \"type\": \"histogram2dcontour\"}], \"mesh3d\": [{\"colorbar\": {\"outlinewidth\": 0, \"ticks\": \"\"}, \"type\": \"mesh3d\"}], \"parcoords\": [{\"line\": {\"colorbar\": {\"outlinewidth\": 0, \"ticks\": \"\"}}, \"type\": \"parcoords\"}], \"pie\": [{\"automargin\": true, \"type\": \"pie\"}], \"scatter\": [{\"marker\": {\"colorbar\": {\"outlinewidth\": 0, \"ticks\": \"\"}}, \"type\": \"scatter\"}], \"scatter3d\": [{\"line\": {\"colorbar\": {\"outlinewidth\": 0, \"ticks\": \"\"}}, \"marker\": {\"colorbar\": {\"outlinewidth\": 0, \"ticks\": \"\"}}, \"type\": \"scatter3d\"}], \"scattercarpet\": [{\"marker\": {\"colorbar\": {\"outlinewidth\": 0, \"ticks\": \"\"}}, \"type\": \"scattercarpet\"}], \"scattergeo\": [{\"marker\": {\"colorbar\": {\"outlinewidth\": 0, \"ticks\": \"\"}}, \"type\": \"scattergeo\"}], \"scattergl\": [{\"marker\": {\"colorbar\": {\"outlinewidth\": 0, \"ticks\": \"\"}}, \"type\": \"scattergl\"}], \"scattermapbox\": [{\"marker\": {\"colorbar\": {\"outlinewidth\": 0, \"ticks\": \"\"}}, \"type\": \"scattermapbox\"}], \"scatterpolar\": [{\"marker\": {\"colorbar\": {\"outlinewidth\": 0, \"ticks\": \"\"}}, \"type\": \"scatterpolar\"}], \"scatterpolargl\": [{\"marker\": {\"colorbar\": {\"outlinewidth\": 0, \"ticks\": \"\"}}, \"type\": \"scatterpolargl\"}], \"scatterternary\": [{\"marker\": {\"colorbar\": {\"outlinewidth\": 0, \"ticks\": \"\"}}, \"type\": \"scatterternary\"}], \"surface\": [{\"colorbar\": {\"outlinewidth\": 0, \"ticks\": \"\"}, \"colorscale\": [[0.0, \"#0d0887\"], [0.1111111111111111, \"#46039f\"], [0.2222222222222222, \"#7201a8\"], [0.3333333333333333, \"#9c179e\"], [0.4444444444444444, \"#bd3786\"], [0.5555555555555556, \"#d8576b\"], [0.6666666666666666, \"#ed7953\"], [0.7777777777777778, \"#fb9f3a\"], [0.8888888888888888, \"#fdca26\"], [1.0, \"#f0f921\"]], \"type\": \"surface\"}], \"table\": [{\"cells\": {\"fill\": {\"color\": \"#EBF0F8\"}, \"line\": {\"color\": \"white\"}}, \"header\": {\"fill\": {\"color\": \"#C8D4E3\"}, \"line\": {\"color\": \"white\"}}, \"type\": \"table\"}]}, \"layout\": {\"annotationdefaults\": {\"arrowcolor\": \"#2a3f5f\", \"arrowhead\": 0, \"arrowwidth\": 1}, \"coloraxis\": {\"colorbar\": {\"outlinewidth\": 0, \"ticks\": \"\"}}, \"colorscale\": {\"diverging\": [[0, \"#8e0152\"], [0.1, \"#c51b7d\"], [0.2, \"#de77ae\"], [0.3, \"#f1b6da\"], [0.4, \"#fde0ef\"], [0.5, \"#f7f7f7\"], [0.6, \"#e6f5d0\"], [0.7, \"#b8e186\"], [0.8, \"#7fbc41\"], [0.9, \"#4d9221\"], [1, \"#276419\"]], \"sequential\": [[0.0, \"#0d0887\"], [0.1111111111111111, \"#46039f\"], [0.2222222222222222, \"#7201a8\"], [0.3333333333333333, \"#9c179e\"], [0.4444444444444444, \"#bd3786\"], [0.5555555555555556, \"#d8576b\"], [0.6666666666666666, \"#ed7953\"], [0.7777777777777778, \"#fb9f3a\"], [0.8888888888888888, \"#fdca26\"], [1.0, \"#f0f921\"]], \"sequentialminus\": [[0.0, \"#0d0887\"], [0.1111111111111111, \"#46039f\"], [0.2222222222222222, \"#7201a8\"], [0.3333333333333333, \"#9c179e\"], [0.4444444444444444, \"#bd3786\"], [0.5555555555555556, \"#d8576b\"], [0.6666666666666666, \"#ed7953\"], [0.7777777777777778, \"#fb9f3a\"], [0.8888888888888888, \"#fdca26\"], [1.0, \"#f0f921\"]]}, \"colorway\": [\"#636efa\", \"#EF553B\", \"#00cc96\", \"#ab63fa\", \"#FFA15A\", \"#19d3f3\", \"#FF6692\", \"#B6E880\", \"#FF97FF\", \"#FECB52\"], \"font\": {\"color\": \"#2a3f5f\"}, \"geo\": {\"bgcolor\": \"white\", \"lakecolor\": \"white\", \"landcolor\": \"#E5ECF6\", \"showlakes\": true, \"showland\": true, \"subunitcolor\": \"white\"}, \"hoverlabel\": {\"align\": \"left\"}, \"hovermode\": \"closest\", \"mapbox\": {\"style\": \"light\"}, \"paper_bgcolor\": \"white\", \"plot_bgcolor\": \"#E5ECF6\", \"polar\": {\"angularaxis\": {\"gridcolor\": \"white\", \"linecolor\": \"white\", \"ticks\": \"\"}, \"bgcolor\": \"#E5ECF6\", \"radialaxis\": {\"gridcolor\": \"white\", \"linecolor\": \"white\", \"ticks\": \"\"}}, \"scene\": {\"xaxis\": {\"backgroundcolor\": \"#E5ECF6\", \"gridcolor\": \"white\", \"gridwidth\": 2, \"linecolor\": \"white\", \"showbackground\": true, \"ticks\": \"\", \"zerolinecolor\": \"white\"}, \"yaxis\": {\"backgroundcolor\": \"#E5ECF6\", \"gridcolor\": \"white\", \"gridwidth\": 2, \"linecolor\": \"white\", \"showbackground\": true, \"ticks\": \"\", \"zerolinecolor\": \"white\"}, \"zaxis\": {\"backgroundcolor\": \"#E5ECF6\", \"gridcolor\": \"white\", \"gridwidth\": 2, \"linecolor\": \"white\", \"showbackground\": true, \"ticks\": \"\", \"zerolinecolor\": \"white\"}}, \"shapedefaults\": {\"line\": {\"color\": \"#2a3f5f\"}}, \"ternary\": {\"aaxis\": {\"gridcolor\": \"white\", \"linecolor\": \"white\", \"ticks\": \"\"}, \"baxis\": {\"gridcolor\": \"white\", \"linecolor\": \"white\", \"ticks\": \"\"}, \"bgcolor\": \"#E5ECF6\", \"caxis\": {\"gridcolor\": \"white\", \"linecolor\": \"white\", \"ticks\": \"\"}}, \"title\": {\"x\": 0.05}, \"xaxis\": {\"automargin\": true, \"gridcolor\": \"white\", \"linecolor\": \"white\", \"ticks\": \"\", \"title\": {\"standoff\": 15}, \"zerolinecolor\": \"white\", \"zerolinewidth\": 2}, \"yaxis\": {\"automargin\": true, \"gridcolor\": \"white\", \"linecolor\": \"white\", \"ticks\": \"\", \"title\": {\"standoff\": 15}, \"zerolinecolor\": \"white\", \"zerolinewidth\": 2}}}, \"xaxis\": {\"showgrid\": false}, \"yaxis\": {\"showgrid\": false}},                        {\"responsive\": true}                    ).then(function(){\n",
       "                            \n",
       "var gd = document.getElementById('0616775a-7700-4ff3-a93f-5846ddeb9685');\n",
       "var x = new MutationObserver(function (mutations, observer) {{\n",
       "        var display = window.getComputedStyle(gd).display;\n",
       "        if (!display || display === 'none') {{\n",
       "            console.log([gd, 'removed!']);\n",
       "            Plotly.purge(gd);\n",
       "            observer.disconnect();\n",
       "        }}\n",
       "}});\n",
       "\n",
       "// Listen for the removal of the full notebook cells\n",
       "var notebookContainer = gd.closest('#notebook-container');\n",
       "if (notebookContainer) {{\n",
       "    x.observe(notebookContainer, {childList: true});\n",
       "}}\n",
       "\n",
       "// Listen for the clearing of the current output cell\n",
       "var outputEl = gd.closest('.output');\n",
       "if (outputEl) {{\n",
       "    x.observe(outputEl, {childList: true});\n",
       "}}\n",
       "\n",
       "                        })                };                });            </script>        </div>"
      ]
     },
     "metadata": {},
     "output_type": "display_data"
    }
   ],
   "source": [
    "fig = go.Figure()\n",
    "fig.add_trace(go.Scatter(x=golddiff['timestamp'],\n",
    "                         y=golddiff['team100golddiff'],\n",
    "                         fill='tozeroy',\n",
    "                         name='Blue team',\n",
    "                         line_color='#2E86C1'\n",
    "                         )\n",
    "                        )\n",
    "\n",
    "fig.add_trace(go.Scatter(x=golddiff['timestamp'],\n",
    "                         y=golddiff['team200golddiff'],\n",
    "                         fill='tozeroy',\n",
    "                         name=\"Red team\",\n",
    "                         line_color='#E74C3C'\n",
    "                         \n",
    "                         )\n",
    "                        )\n",
    "fig.update_xaxes(showgrid=False)\n",
    "fig.update_yaxes(showgrid=False)"
   ]
  },
  {
   "cell_type": "code",
   "execution_count": 28,
   "metadata": {},
   "outputs": [
    {
     "data": {
      "text/plain": [
       "23"
      ]
     },
     "execution_count": 28,
     "metadata": {},
     "output_type": "execute_result"
    }
   ],
   "source": [
    "frames['timestamp'].max()"
   ]
  },
  {
   "cell_type": "code",
   "execution_count": 29,
   "metadata": {},
   "outputs": [
    {
     "data": {
      "text/html": [
       "<div>\n",
       "<style scoped>\n",
       "    .dataframe tbody tr th:only-of-type {\n",
       "        vertical-align: middle;\n",
       "    }\n",
       "\n",
       "    .dataframe tbody tr th {\n",
       "        vertical-align: top;\n",
       "    }\n",
       "\n",
       "    .dataframe thead th {\n",
       "        text-align: right;\n",
       "    }\n",
       "</style>\n",
       "<table border=\"1\" class=\"dataframe\">\n",
       "  <thead>\n",
       "    <tr style=\"text-align: right;\">\n",
       "      <th></th>\n",
       "      <th>platformId</th>\n",
       "      <th>gameId</th>\n",
       "      <th>season</th>\n",
       "      <th>timestamp</th>\n",
       "      <th>role</th>\n",
       "      <th>lane</th>\n",
       "      <th>name</th>\n",
       "      <th>queue_type</th>\n",
       "    </tr>\n",
       "  </thead>\n",
       "  <tbody>\n",
       "    <tr>\n",
       "      <th>0</th>\n",
       "      <td>EUW1</td>\n",
       "      <td>4881443353</td>\n",
       "      <td>13</td>\n",
       "      <td>Wed Oct 21 17:51:23 2020</td>\n",
       "      <td>SOLO</td>\n",
       "      <td>TOP</td>\n",
       "      <td>Shen</td>\n",
       "      <td>5v5 Ranked Solo games</td>\n",
       "    </tr>\n",
       "    <tr>\n",
       "      <th>1</th>\n",
       "      <td>EUW1</td>\n",
       "      <td>4880687844</td>\n",
       "      <td>13</td>\n",
       "      <td>Wed Oct 21 13:36:47 2020</td>\n",
       "      <td>DUO_SUPPORT</td>\n",
       "      <td>BOTTOM</td>\n",
       "      <td>Xerath</td>\n",
       "      <td>5v5 Ranked Solo games</td>\n",
       "    </tr>\n",
       "    <tr>\n",
       "      <th>2</th>\n",
       "      <td>EUW1</td>\n",
       "      <td>4880662182</td>\n",
       "      <td>13</td>\n",
       "      <td>Wed Oct 21 12:35:13 2020</td>\n",
       "      <td>DUO_CARRY</td>\n",
       "      <td>BOTTOM</td>\n",
       "      <td>Ezreal</td>\n",
       "      <td>5v5 Ranked Solo games</td>\n",
       "    </tr>\n",
       "    <tr>\n",
       "      <th>3</th>\n",
       "      <td>EUW1</td>\n",
       "      <td>4879567107</td>\n",
       "      <td>13</td>\n",
       "      <td>Tue Oct 20 18:08:04 2020</td>\n",
       "      <td>DUO_CARRY</td>\n",
       "      <td>BOTTOM</td>\n",
       "      <td>Jinx</td>\n",
       "      <td>5v5 Ranked Solo games</td>\n",
       "    </tr>\n",
       "    <tr>\n",
       "      <th>4</th>\n",
       "      <td>EUW1</td>\n",
       "      <td>4879483641</td>\n",
       "      <td>13</td>\n",
       "      <td>Tue Oct 20 16:46:37 2020</td>\n",
       "      <td>DUO_CARRY</td>\n",
       "      <td>BOTTOM</td>\n",
       "      <td>Jhin</td>\n",
       "      <td>5v5 Ranked Solo games</td>\n",
       "    </tr>\n",
       "    <tr>\n",
       "      <th>...</th>\n",
       "      <td>...</td>\n",
       "      <td>...</td>\n",
       "      <td>...</td>\n",
       "      <td>...</td>\n",
       "      <td>...</td>\n",
       "      <td>...</td>\n",
       "      <td>...</td>\n",
       "      <td>...</td>\n",
       "    </tr>\n",
       "    <tr>\n",
       "      <th>95</th>\n",
       "      <td>EUW1</td>\n",
       "      <td>4838903775</td>\n",
       "      <td>13</td>\n",
       "      <td>Sun Sep 27 18:11:59 2020</td>\n",
       "      <td>DUO_SUPPORT</td>\n",
       "      <td>NONE</td>\n",
       "      <td>Ezreal</td>\n",
       "      <td>5v5 Ranked Solo games</td>\n",
       "    </tr>\n",
       "    <tr>\n",
       "      <th>96</th>\n",
       "      <td>EUW1</td>\n",
       "      <td>4838455561</td>\n",
       "      <td>13</td>\n",
       "      <td>Sun Sep 27 13:44:28 2020</td>\n",
       "      <td>SOLO</td>\n",
       "      <td>TOP</td>\n",
       "      <td>Gangplank</td>\n",
       "      <td>5v5 Ranked Solo games</td>\n",
       "    </tr>\n",
       "    <tr>\n",
       "      <th>97</th>\n",
       "      <td>EUW1</td>\n",
       "      <td>4838349976</td>\n",
       "      <td>13</td>\n",
       "      <td>Sun Sep 27 13:04:48 2020</td>\n",
       "      <td>SOLO</td>\n",
       "      <td>TOP</td>\n",
       "      <td>Akali</td>\n",
       "      <td>5v5 Ranked Solo games</td>\n",
       "    </tr>\n",
       "    <tr>\n",
       "      <th>98</th>\n",
       "      <td>EUW1</td>\n",
       "      <td>4837079410</td>\n",
       "      <td>13</td>\n",
       "      <td>Sat Sep 26 17:48:41 2020</td>\n",
       "      <td>DUO_SUPPORT</td>\n",
       "      <td>TOP</td>\n",
       "      <td>Brand</td>\n",
       "      <td>5v5 ARAM games</td>\n",
       "    </tr>\n",
       "    <tr>\n",
       "      <th>99</th>\n",
       "      <td>EUW1</td>\n",
       "      <td>4837048701</td>\n",
       "      <td>13</td>\n",
       "      <td>Sat Sep 26 16:57:11 2020</td>\n",
       "      <td>NONE</td>\n",
       "      <td>JUNGLE</td>\n",
       "      <td>Shen</td>\n",
       "      <td>5v5 Ranked Solo games</td>\n",
       "    </tr>\n",
       "  </tbody>\n",
       "</table>\n",
       "<p>100 rows × 8 columns</p>\n",
       "</div>"
      ],
      "text/plain": [
       "   platformId      gameId  season                 timestamp         role  \\\n",
       "0        EUW1  4881443353      13  Wed Oct 21 17:51:23 2020         SOLO   \n",
       "1        EUW1  4880687844      13  Wed Oct 21 13:36:47 2020  DUO_SUPPORT   \n",
       "2        EUW1  4880662182      13  Wed Oct 21 12:35:13 2020    DUO_CARRY   \n",
       "3        EUW1  4879567107      13  Tue Oct 20 18:08:04 2020    DUO_CARRY   \n",
       "4        EUW1  4879483641      13  Tue Oct 20 16:46:37 2020    DUO_CARRY   \n",
       "..        ...         ...     ...                       ...          ...   \n",
       "95       EUW1  4838903775      13  Sun Sep 27 18:11:59 2020  DUO_SUPPORT   \n",
       "96       EUW1  4838455561      13  Sun Sep 27 13:44:28 2020         SOLO   \n",
       "97       EUW1  4838349976      13  Sun Sep 27 13:04:48 2020         SOLO   \n",
       "98       EUW1  4837079410      13  Sat Sep 26 17:48:41 2020  DUO_SUPPORT   \n",
       "99       EUW1  4837048701      13  Sat Sep 26 16:57:11 2020         NONE   \n",
       "\n",
       "      lane       name             queue_type  \n",
       "0      TOP       Shen  5v5 Ranked Solo games  \n",
       "1   BOTTOM     Xerath  5v5 Ranked Solo games  \n",
       "2   BOTTOM     Ezreal  5v5 Ranked Solo games  \n",
       "3   BOTTOM       Jinx  5v5 Ranked Solo games  \n",
       "4   BOTTOM       Jhin  5v5 Ranked Solo games  \n",
       "..     ...        ...                    ...  \n",
       "95    NONE     Ezreal  5v5 Ranked Solo games  \n",
       "96     TOP  Gangplank  5v5 Ranked Solo games  \n",
       "97     TOP      Akali  5v5 Ranked Solo games  \n",
       "98     TOP      Brand         5v5 ARAM games  \n",
       "99  JUNGLE       Shen  5v5 Ranked Solo games  \n",
       "\n",
       "[100 rows x 8 columns]"
      ]
     },
     "execution_count": 29,
     "metadata": {},
     "output_type": "execute_result"
    }
   ],
   "source": [
    "match_list"
   ]
  },
  {
   "cell_type": "code",
   "execution_count": null,
   "metadata": {},
   "outputs": [],
   "source": []
  }
 ],
 "metadata": {
  "kernelspec": {
   "display_name": "Python [conda env:ironhack]",
   "language": "python",
   "name": "conda-env-ironhack-py"
  },
  "language_info": {
   "codemirror_mode": {
    "name": "ipython",
    "version": 3
   },
   "file_extension": ".py",
   "mimetype": "text/x-python",
   "name": "python",
   "nbconvert_exporter": "python",
   "pygments_lexer": "ipython3",
   "version": "3.7.9"
  }
 },
 "nbformat": 4,
 "nbformat_minor": 4
}
